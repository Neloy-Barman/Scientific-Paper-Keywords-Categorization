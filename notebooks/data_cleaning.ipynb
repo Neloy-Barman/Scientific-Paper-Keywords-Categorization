{
  "nbformat": 4,
  "nbformat_minor": 0,
  "metadata": {
    "colab": {
      "provenance": []
    },
    "kernelspec": {
      "name": "python3",
      "display_name": "Python 3"
    },
    "language_info": {
      "name": "python"
    }
  },
  "cells": [
    {
      "cell_type": "markdown",
      "source": [
        "## **Magic Functions**"
      ],
      "metadata": {
        "id": "6Kctfn58ab6c"
      }
    },
    {
      "cell_type": "code",
      "execution_count": null,
      "metadata": {
        "id": "Gtid0L8PD7xz"
      },
      "outputs": [],
      "source": [
        "%reload_ext autoreload\n",
        "%autoreload 2\n",
        "%matplotlib inline"
      ]
    },
    {
      "cell_type": "markdown",
      "source": [
        "## **Necessary Imports**"
      ],
      "metadata": {
        "id": "yA649fk8aeiS"
      }
    },
    {
      "cell_type": "code",
      "source": [
        "import os\n",
        "import re\n",
        "import pandas as pd"
      ],
      "metadata": {
        "id": "kVu8F4AVEAAM"
      },
      "execution_count": null,
      "outputs": []
    },
    {
      "cell_type": "markdown",
      "source": [
        "## **Drive Mount**"
      ],
      "metadata": {
        "id": "hPZQCyOpahtr"
      }
    },
    {
      "cell_type": "code",
      "source": [
        "from google.colab import drive\n",
        "drive.mount('/content/drive')"
      ],
      "metadata": {
        "colab": {
          "base_uri": "https://localhost:8080/"
        },
        "id": "VAR0XyIjECtz",
        "outputId": "d6353b36-d9fb-4d56-bb53-832c2e2a1364"
      },
      "execution_count": null,
      "outputs": [
        {
          "output_type": "stream",
          "name": "stdout",
          "text": [
            "Mounted at /content/drive\n"
          ]
        }
      ]
    },
    {
      "cell_type": "markdown",
      "source": [
        "## **Initializing folder**"
      ],
      "metadata": {
        "id": "Ot88aGGuakOC"
      }
    },
    {
      "cell_type": "code",
      "source": [
        "%cd /content/drive/MyDrive/keyword_categorization/"
      ],
      "metadata": {
        "colab": {
          "base_uri": "https://localhost:8080/"
        },
        "id": "Q2SDXIrBEEw0",
        "outputId": "7e5f13be-3fb6-4265-9e6a-0e404c139e4b"
      },
      "execution_count": null,
      "outputs": [
        {
          "output_type": "stream",
          "name": "stdout",
          "text": [
            "/content/drive/MyDrive/keyword_categorization\n"
          ]
        }
      ]
    },
    {
      "cell_type": "code",
      "source": [
        "scraped_data_path = 'data/scraped_data'\n",
        "files = os.listdir(f\"{scraped_data_path}\")\n",
        "csv_files = [file for file in files if file.endswith(\".csv\")]\n",
        "print(f\"Aavailable Files: {csv_files}\")"
      ],
      "metadata": {
        "id": "l5MKAcEruVmF",
        "colab": {
          "base_uri": "https://localhost:8080/"
        },
        "outputId": "6e5c9d7d-393d-40ad-f4a9-0248cb4d32b8"
      },
      "execution_count": null,
      "outputs": [
        {
          "output_type": "stream",
          "name": "stdout",
          "text": [
            "Aavailable Files: ['paper_details_ieee_access.csv', 'paper_details_more.csv', 'paper_details.csv']\n"
          ]
        }
      ]
    },
    {
      "cell_type": "code",
      "source": [
        "df = pd.DataFrame()"
      ],
      "metadata": {
        "id": "znoPbX3auYTS"
      },
      "execution_count": null,
      "outputs": []
    },
    {
      "cell_type": "code",
      "source": [
        "for file in csv_files:\n",
        "  file_path = f\"{scraped_data_path}/{file}\"\n",
        "  data_frame = pd.read_csv(f\"{file_path}\")\n",
        "  df = pd.concat([df, data_frame], ignore_index=True)"
      ],
      "metadata": {
        "id": "B2dTmB3vuaY7"
      },
      "execution_count": null,
      "outputs": []
    },
    {
      "cell_type": "code",
      "source": [
        "# df.to_csv(f\"{data_path}/all_papers_details.csv\", index=False)"
      ],
      "metadata": {
        "id": "nbzmpy7zvFJb"
      },
      "execution_count": null,
      "outputs": []
    },
    {
      "cell_type": "code",
      "source": [
        "# df = pd.read_csv(f\"{data_path}/all_papers_details.csv\")"
      ],
      "metadata": {
        "id": "5YKwWGF8EE0d"
      },
      "execution_count": null,
      "outputs": []
    },
    {
      "cell_type": "code",
      "source": [
        "df.shape"
      ],
      "metadata": {
        "colab": {
          "base_uri": "https://localhost:8080/"
        },
        "id": "CEL2Px4uTvcg",
        "outputId": "891d615d-c3e1-42c5-cb3e-3eabe4bda4b2"
      },
      "execution_count": null,
      "outputs": [
        {
          "output_type": "execute_result",
          "data": {
            "text/plain": [
              "(41964, 3)"
            ]
          },
          "metadata": {},
          "execution_count": 10
        }
      ]
    },
    {
      "cell_type": "code",
      "source": [
        "df.head()"
      ],
      "metadata": {
        "colab": {
          "base_uri": "https://localhost:8080/"
        },
        "id": "JCD64-FqEE31",
        "outputId": "07ee6fb4-f25d-4e4d-dbce-937c7b20d319"
      },
      "execution_count": null,
      "outputs": [
        {
          "output_type": "execute_result",
          "data": {
            "text/plain": [
              "                                           abstracts  \\\n",
              "0  The global bandwidth shortage facing wireless ...   \n",
              "1  Motivated by the recent explosion of interest ...   \n",
              "2  At the dawn of the fourth industrial revolutio...   \n",
              "3  The Internet of Things (IoT) makes smart objec...   \n",
              "4  In the near future, i.e., beyond 4G, some of t...   \n",
              "\n",
              "                                       ieee_keywords  \\\n",
              "0                                                 []   \n",
              "1  ['Distributed processing', 'Internet of things...   \n",
              "2  ['Conferences', 'Machine learning', 'Market re...   \n",
              "3  ['Internet of things', 'Medical services', 'Ne...   \n",
              "4  ['5G mobile communication', 'Cloud computing',...   \n",
              "\n",
              "                                     author_keywords  \n",
              "0                                                 []  \n",
              "1  ['blockchain', 'distributed systems', 'Interne...  \n",
              "2  ['Explainable artificial intelligence', 'inter...  \n",
              "3  ['Internet of Things', 'Health Care', 'Service...  \n",
              "4  ['5G', 'Cloud', 'D2D', 'Massive MIMO', 'mm-wav...  "
            ],
            "text/html": [
              "\n",
              "  <div id=\"df-b93d5803-0ac3-464e-b1ab-40121c39a386\" class=\"colab-df-container\">\n",
              "    <div>\n",
              "<style scoped>\n",
              "    .dataframe tbody tr th:only-of-type {\n",
              "        vertical-align: middle;\n",
              "    }\n",
              "\n",
              "    .dataframe tbody tr th {\n",
              "        vertical-align: top;\n",
              "    }\n",
              "\n",
              "    .dataframe thead th {\n",
              "        text-align: right;\n",
              "    }\n",
              "</style>\n",
              "<table border=\"1\" class=\"dataframe\">\n",
              "  <thead>\n",
              "    <tr style=\"text-align: right;\">\n",
              "      <th></th>\n",
              "      <th>abstracts</th>\n",
              "      <th>ieee_keywords</th>\n",
              "      <th>author_keywords</th>\n",
              "    </tr>\n",
              "  </thead>\n",
              "  <tbody>\n",
              "    <tr>\n",
              "      <th>0</th>\n",
              "      <td>The global bandwidth shortage facing wireless ...</td>\n",
              "      <td>[]</td>\n",
              "      <td>[]</td>\n",
              "    </tr>\n",
              "    <tr>\n",
              "      <th>1</th>\n",
              "      <td>Motivated by the recent explosion of interest ...</td>\n",
              "      <td>['Distributed processing', 'Internet of things...</td>\n",
              "      <td>['blockchain', 'distributed systems', 'Interne...</td>\n",
              "    </tr>\n",
              "    <tr>\n",
              "      <th>2</th>\n",
              "      <td>At the dawn of the fourth industrial revolutio...</td>\n",
              "      <td>['Conferences', 'Machine learning', 'Market re...</td>\n",
              "      <td>['Explainable artificial intelligence', 'inter...</td>\n",
              "    </tr>\n",
              "    <tr>\n",
              "      <th>3</th>\n",
              "      <td>The Internet of Things (IoT) makes smart objec...</td>\n",
              "      <td>['Internet of things', 'Medical services', 'Ne...</td>\n",
              "      <td>['Internet of Things', 'Health Care', 'Service...</td>\n",
              "    </tr>\n",
              "    <tr>\n",
              "      <th>4</th>\n",
              "      <td>In the near future, i.e., beyond 4G, some of t...</td>\n",
              "      <td>['5G mobile communication', 'Cloud computing',...</td>\n",
              "      <td>['5G', 'Cloud', 'D2D', 'Massive MIMO', 'mm-wav...</td>\n",
              "    </tr>\n",
              "  </tbody>\n",
              "</table>\n",
              "</div>\n",
              "    <div class=\"colab-df-buttons\">\n",
              "\n",
              "  <div class=\"colab-df-container\">\n",
              "    <button class=\"colab-df-convert\" onclick=\"convertToInteractive('df-b93d5803-0ac3-464e-b1ab-40121c39a386')\"\n",
              "            title=\"Convert this dataframe to an interactive table.\"\n",
              "            style=\"display:none;\">\n",
              "\n",
              "  <svg xmlns=\"http://www.w3.org/2000/svg\" height=\"24px\" viewBox=\"0 -960 960 960\">\n",
              "    <path d=\"M120-120v-720h720v720H120Zm60-500h600v-160H180v160Zm220 220h160v-160H400v160Zm0 220h160v-160H400v160ZM180-400h160v-160H180v160Zm440 0h160v-160H620v160ZM180-180h160v-160H180v160Zm440 0h160v-160H620v160Z\"/>\n",
              "  </svg>\n",
              "    </button>\n",
              "\n",
              "  <style>\n",
              "    .colab-df-container {\n",
              "      display:flex;\n",
              "      gap: 12px;\n",
              "    }\n",
              "\n",
              "    .colab-df-convert {\n",
              "      background-color: #E8F0FE;\n",
              "      border: none;\n",
              "      border-radius: 50%;\n",
              "      cursor: pointer;\n",
              "      display: none;\n",
              "      fill: #1967D2;\n",
              "      height: 32px;\n",
              "      padding: 0 0 0 0;\n",
              "      width: 32px;\n",
              "    }\n",
              "\n",
              "    .colab-df-convert:hover {\n",
              "      background-color: #E2EBFA;\n",
              "      box-shadow: 0px 1px 2px rgba(60, 64, 67, 0.3), 0px 1px 3px 1px rgba(60, 64, 67, 0.15);\n",
              "      fill: #174EA6;\n",
              "    }\n",
              "\n",
              "    .colab-df-buttons div {\n",
              "      margin-bottom: 4px;\n",
              "    }\n",
              "\n",
              "    [theme=dark] .colab-df-convert {\n",
              "      background-color: #3B4455;\n",
              "      fill: #D2E3FC;\n",
              "    }\n",
              "\n",
              "    [theme=dark] .colab-df-convert:hover {\n",
              "      background-color: #434B5C;\n",
              "      box-shadow: 0px 1px 3px 1px rgba(0, 0, 0, 0.15);\n",
              "      filter: drop-shadow(0px 1px 2px rgba(0, 0, 0, 0.3));\n",
              "      fill: #FFFFFF;\n",
              "    }\n",
              "  </style>\n",
              "\n",
              "    <script>\n",
              "      const buttonEl =\n",
              "        document.querySelector('#df-b93d5803-0ac3-464e-b1ab-40121c39a386 button.colab-df-convert');\n",
              "      buttonEl.style.display =\n",
              "        google.colab.kernel.accessAllowed ? 'block' : 'none';\n",
              "\n",
              "      async function convertToInteractive(key) {\n",
              "        const element = document.querySelector('#df-b93d5803-0ac3-464e-b1ab-40121c39a386');\n",
              "        const dataTable =\n",
              "          await google.colab.kernel.invokeFunction('convertToInteractive',\n",
              "                                                    [key], {});\n",
              "        if (!dataTable) return;\n",
              "\n",
              "        const docLinkHtml = 'Like what you see? Visit the ' +\n",
              "          '<a target=\"_blank\" href=https://colab.research.google.com/notebooks/data_table.ipynb>data table notebook</a>'\n",
              "          + ' to learn more about interactive tables.';\n",
              "        element.innerHTML = '';\n",
              "        dataTable['output_type'] = 'display_data';\n",
              "        await google.colab.output.renderOutput(dataTable, element);\n",
              "        const docLink = document.createElement('div');\n",
              "        docLink.innerHTML = docLinkHtml;\n",
              "        element.appendChild(docLink);\n",
              "      }\n",
              "    </script>\n",
              "  </div>\n",
              "\n",
              "\n",
              "<div id=\"df-d786f70f-376a-4a07-88b9-e90851ebeb6a\">\n",
              "  <button class=\"colab-df-quickchart\" onclick=\"quickchart('df-d786f70f-376a-4a07-88b9-e90851ebeb6a')\"\n",
              "            title=\"Suggest charts\"\n",
              "            style=\"display:none;\">\n",
              "\n",
              "<svg xmlns=\"http://www.w3.org/2000/svg\" height=\"24px\"viewBox=\"0 0 24 24\"\n",
              "     width=\"24px\">\n",
              "    <g>\n",
              "        <path d=\"M19 3H5c-1.1 0-2 .9-2 2v14c0 1.1.9 2 2 2h14c1.1 0 2-.9 2-2V5c0-1.1-.9-2-2-2zM9 17H7v-7h2v7zm4 0h-2V7h2v10zm4 0h-2v-4h2v4z\"/>\n",
              "    </g>\n",
              "</svg>\n",
              "  </button>\n",
              "\n",
              "<style>\n",
              "  .colab-df-quickchart {\n",
              "      --bg-color: #E8F0FE;\n",
              "      --fill-color: #1967D2;\n",
              "      --hover-bg-color: #E2EBFA;\n",
              "      --hover-fill-color: #174EA6;\n",
              "      --disabled-fill-color: #AAA;\n",
              "      --disabled-bg-color: #DDD;\n",
              "  }\n",
              "\n",
              "  [theme=dark] .colab-df-quickchart {\n",
              "      --bg-color: #3B4455;\n",
              "      --fill-color: #D2E3FC;\n",
              "      --hover-bg-color: #434B5C;\n",
              "      --hover-fill-color: #FFFFFF;\n",
              "      --disabled-bg-color: #3B4455;\n",
              "      --disabled-fill-color: #666;\n",
              "  }\n",
              "\n",
              "  .colab-df-quickchart {\n",
              "    background-color: var(--bg-color);\n",
              "    border: none;\n",
              "    border-radius: 50%;\n",
              "    cursor: pointer;\n",
              "    display: none;\n",
              "    fill: var(--fill-color);\n",
              "    height: 32px;\n",
              "    padding: 0;\n",
              "    width: 32px;\n",
              "  }\n",
              "\n",
              "  .colab-df-quickchart:hover {\n",
              "    background-color: var(--hover-bg-color);\n",
              "    box-shadow: 0 1px 2px rgba(60, 64, 67, 0.3), 0 1px 3px 1px rgba(60, 64, 67, 0.15);\n",
              "    fill: var(--button-hover-fill-color);\n",
              "  }\n",
              "\n",
              "  .colab-df-quickchart-complete:disabled,\n",
              "  .colab-df-quickchart-complete:disabled:hover {\n",
              "    background-color: var(--disabled-bg-color);\n",
              "    fill: var(--disabled-fill-color);\n",
              "    box-shadow: none;\n",
              "  }\n",
              "\n",
              "  .colab-df-spinner {\n",
              "    border: 2px solid var(--fill-color);\n",
              "    border-color: transparent;\n",
              "    border-bottom-color: var(--fill-color);\n",
              "    animation:\n",
              "      spin 1s steps(1) infinite;\n",
              "  }\n",
              "\n",
              "  @keyframes spin {\n",
              "    0% {\n",
              "      border-color: transparent;\n",
              "      border-bottom-color: var(--fill-color);\n",
              "      border-left-color: var(--fill-color);\n",
              "    }\n",
              "    20% {\n",
              "      border-color: transparent;\n",
              "      border-left-color: var(--fill-color);\n",
              "      border-top-color: var(--fill-color);\n",
              "    }\n",
              "    30% {\n",
              "      border-color: transparent;\n",
              "      border-left-color: var(--fill-color);\n",
              "      border-top-color: var(--fill-color);\n",
              "      border-right-color: var(--fill-color);\n",
              "    }\n",
              "    40% {\n",
              "      border-color: transparent;\n",
              "      border-right-color: var(--fill-color);\n",
              "      border-top-color: var(--fill-color);\n",
              "    }\n",
              "    60% {\n",
              "      border-color: transparent;\n",
              "      border-right-color: var(--fill-color);\n",
              "    }\n",
              "    80% {\n",
              "      border-color: transparent;\n",
              "      border-right-color: var(--fill-color);\n",
              "      border-bottom-color: var(--fill-color);\n",
              "    }\n",
              "    90% {\n",
              "      border-color: transparent;\n",
              "      border-bottom-color: var(--fill-color);\n",
              "    }\n",
              "  }\n",
              "</style>\n",
              "\n",
              "  <script>\n",
              "    async function quickchart(key) {\n",
              "      const quickchartButtonEl =\n",
              "        document.querySelector('#' + key + ' button');\n",
              "      quickchartButtonEl.disabled = true;  // To prevent multiple clicks.\n",
              "      quickchartButtonEl.classList.add('colab-df-spinner');\n",
              "      try {\n",
              "        const charts = await google.colab.kernel.invokeFunction(\n",
              "            'suggestCharts', [key], {});\n",
              "      } catch (error) {\n",
              "        console.error('Error during call to suggestCharts:', error);\n",
              "      }\n",
              "      quickchartButtonEl.classList.remove('colab-df-spinner');\n",
              "      quickchartButtonEl.classList.add('colab-df-quickchart-complete');\n",
              "    }\n",
              "    (() => {\n",
              "      let quickchartButtonEl =\n",
              "        document.querySelector('#df-d786f70f-376a-4a07-88b9-e90851ebeb6a button');\n",
              "      quickchartButtonEl.style.display =\n",
              "        google.colab.kernel.accessAllowed ? 'block' : 'none';\n",
              "    })();\n",
              "  </script>\n",
              "</div>\n",
              "\n",
              "    </div>\n",
              "  </div>\n"
            ]
          },
          "metadata": {},
          "execution_count": 11
        }
      ]
    },
    {
      "cell_type": "code",
      "source": [
        "df.columns"
      ],
      "metadata": {
        "colab": {
          "base_uri": "https://localhost:8080/"
        },
        "id": "0V_S_SDLTzY3",
        "outputId": "9e4237e2-e8fd-4931-a06b-f70daba26805"
      },
      "execution_count": null,
      "outputs": [
        {
          "output_type": "execute_result",
          "data": {
            "text/plain": [
              "Index(['abstracts', 'ieee_keywords', 'author_keywords'], dtype='object')"
            ]
          },
          "metadata": {},
          "execution_count": 12
        }
      ]
    },
    {
      "cell_type": "code",
      "source": [
        "df.isna().sum()"
      ],
      "metadata": {
        "colab": {
          "base_uri": "https://localhost:8080/"
        },
        "id": "ZFyGspRnT4ke",
        "outputId": "271f6517-85ad-4d54-eb04-8306ddf8439b"
      },
      "execution_count": null,
      "outputs": [
        {
          "output_type": "execute_result",
          "data": {
            "text/plain": [
              "abstracts          1129\n",
              "ieee_keywords         0\n",
              "author_keywords       0\n",
              "dtype: int64"
            ]
          },
          "metadata": {},
          "execution_count": 13
        }
      ]
    },
    {
      "cell_type": "code",
      "source": [
        "df = df.dropna().reset_index(drop=True)"
      ],
      "metadata": {
        "id": "8QhDTDmHT6Cf"
      },
      "execution_count": null,
      "outputs": []
    },
    {
      "cell_type": "code",
      "source": [
        "df.isna().sum()"
      ],
      "metadata": {
        "colab": {
          "base_uri": "https://localhost:8080/"
        },
        "id": "rKTS8kOqUDDu",
        "outputId": "997638c8-8cd4-421c-99d3-2eda36c13b15"
      },
      "execution_count": null,
      "outputs": [
        {
          "output_type": "execute_result",
          "data": {
            "text/plain": [
              "abstracts          0\n",
              "ieee_keywords      0\n",
              "author_keywords    0\n",
              "dtype: int64"
            ]
          },
          "metadata": {},
          "execution_count": 15
        }
      ]
    },
    {
      "cell_type": "code",
      "source": [
        "available_abstracts = df['abstracts'].value_counts().to_dict()"
      ],
      "metadata": {
        "id": "72E3zXwMUM-u"
      },
      "execution_count": null,
      "outputs": []
    },
    {
      "cell_type": "code",
      "source": [
        "inoappropriate_abstracts = [key for key, value in available_abstracts.items() if value != 1]\n",
        "\n",
        "# inoappropriate_abstracts = []\n",
        "\n",
        "# for key, value in val.items():\n",
        "#   if value != 1:\n",
        "#     inoappropriate_abstracts.append(key)"
      ],
      "metadata": {
        "id": "cafCrbLYUSq9"
      },
      "execution_count": null,
      "outputs": []
    },
    {
      "cell_type": "code",
      "source": [
        "len(inoappropriate_abstracts) , inoappropriate_abstracts"
      ],
      "metadata": {
        "colab": {
          "base_uri": "https://localhost:8080/"
        },
        "id": "I8CoN_9BdAln",
        "outputId": "f9a8ca02-dbcb-4c6d-9fd5-947e1edadce4"
      },
      "execution_count": null,
      "outputs": [
        {
          "output_type": "execute_result",
          "data": {
            "text/plain": [
              "(126,\n",
              " ['Not applicable: This submission does not include human or animal research.',\n",
              "  'Employers desirous of obtaining the services of Electrical Engineers, Electrical Tradesmen, and Men or Learners for electrical work, may specify their requirements by means of advertisements in this column, and',\n",
              "  'Members of the Institute visiting Cape Town are cordially invited to attend general meetings of the Cape Western Local Centre which are held in the Demonstration Theatre, Electricity House, Strand Street, Cape Town, on the second Thursday of each month.',\n",
              "  'IEEE Plagiarism Policy',\n",
              "  'Deviations of frequencies and time signals are with respect to the weighted mean of six quartz oscillators, and time signals from WWV over 20-day intervals. A positive frequency deviation indicates that the frequency was high. A time deviation of 010 indicates that the time pulses were 0.010 second late on WWV while 990 indicates that they were 0.010 second early. A value of 46.3 milliseconds has been adopted for the propagation time of radio signals between Washington and Johannesburg.',\n",
              "  '(President) was in the Chair and declared the meeting opened at 8 p.m.',\n",
              "  'Provisional applications for Letters Patent will be inserted in this list as complete Specifications. Complete Specifications have to be submitted within nine months after the provisional application has been supplied, and on the acceptance of the complete Specification, the applicant must advertise it in three issues of the Gazette. The application and Specification, together with drawings, etc., shall thereupon be open to public inspection. Any person may within two months from the date of the latest advertisement, or about eleven weeks from the date of acceptance, give notice in writing to the Registrar of Patents of any objection to the granting of such patent.',\n",
              "  'Incorporating the South African Branch of the British Standards Institution.',\n",
              "  'Letters on matters of general interest to the Profession have, from time to time, been published in the Transactions, and these have proved to be useful as a means for the exchange of opinions.',\n",
              "  'This journal publishes research, survey and expository contributions in the field of electrical engineering. Articles may be of a theoretical or applied nature, must be novel and must not have been published elsewhere.',\n",
              "  'A Foundation Member of the Institute has a complete set of the Transactions for sale, the first fifteen volumes of which are bound in half-calf. Condition as new What offers?',\n",
              "  'The views expressed in this Editorial are those of the author, and do not necessarily reflect the views of the Council of the South African Institute of Electrical Engineers.',\n",
              "  'Employers desirous of obtaining the services of Electrical Engineers, Electrical Tradesmen, and Men or Learners for electrical work, may specify their requirements by means of advertisements in this column, and Members of the Institute desiring employment may advertise for suitable appointments.',\n",
              "  'The Education and Bursary Fund shall be utilised in the first place for awards as outlined below, the nature and extent of the awards to be reviewed from time to time with regard to the amount standing to the credit of the fund.',\n",
              "  'Members of the Institute visiting Cape Town are cordially invited to attend general meetings of the Cape Western Local Centre which are held in Demonstration Theatre, Electricity House, Strand Street, Cape Town, on the second Thursday of each month.',\n",
              "  'Not applicable: This submission does not include, human, or animal research.',\n",
              "  \"The attention of Students is drawn to the Institute's Education and Bursary Scheme which has been established for the purpose of assisting Students of the Institute.\",\n",
              "  'There were present 80 members and visitors and the Secretary.',\n",
              "  'Employers desirous of obtaining the services of electrical engineers, electrical tradesmen and men or learners for electrical work, may specify their requirements by means of advertisements in this column, and Members of the Institute desiring employment may advertise for suitable appointments.',\n",
              "  'Held in the Main Hall, Kelvin House, Johannesburg, on Thursday, 26th July, 1979 at 18h30.',\n",
              "  'The local executive committee of the Empire Mining and Metallurgical Congress (South Africa, 1930) desire to draw attention to the present position of the arrangements for the Congress here in 1930.',\n",
              "  'The nonlinear distortions induced by the E/O and O/E conversion degrade the linearity performance of the analog photonic link (APL). In the paper, a method based on the corporation of push-pull manner and DSP algorithm is proposed to suppress IMD2, HD2, IMD3 and XMD simultaneously in the directly-Modulated APL. This work has potential applications in guiding low-cost and high-linearity optical transceiver design to realize high performance radio over fiber transmission systems.',\n",
              "  'The next examination for Associate Membership will be held in November, 1929. All particulars may be obtained on application to the Secretary, P.O. Box 5907, Johannesburg.',\n",
              "  'The following notes have been com piled to assist prospective authors in the preparation of papers for presentation be fore the Institute and publication in the Transactions.',\n",
              "  'A Foundation Member of the Institute has a complete set of the Transactions for sale, the first fifteen volumes of which are bound in half-calf. Condition as new. What offers?',\n",
              "  'J. T. Allan',\n",
              "  'PLS for FSO links has attracted considerable attention in the last few years with the upcoming deployment of 5G networks. This motives us to conduct a new framework for the analysis of how to enhance the ASC by taking full advantage of structures based on multiple inputs at the transmitter-side in the presence of an external observer with arbitrary location and orientation. The developed expressions are used to analyze the effect of some important parameters on the secrecy performance.',\n",
              "  'The Australian National Committee on Computation and Automatic Control announces a Conference on “Automatic Computing and Data Processing in Australia” to be held on 24th to 27th May, 1960, at the University of Sydney and the University of New South Wales.',\n",
              "  'Recently, it is shown that well-designed SPAD receiver using a few SPADs can bring significant sensitivity improvements in optical receivers. This paper presents an accurate model and analysis for thorough understanding and careful design of such receivers. The effect of different parameters, including the SPAD parasitics, on the overall performance is captured. This enables further improvement and paves the way to further reduce the sensitivity gap to the quantum limit.',\n",
              "  'A full-duplex self-recovery optical fibre transport system is proposed on the basis of a novel passive single-line bidirectional optical add/drop multiplexer (SBOADM). Polarisation division multiplexing technique, optical double-frequency application and wavelength reuse method are employed in the transport system to improve wavelength utilisation efficiency and achieve colourless optical network unit.',\n",
              "  'A synchronous grammar based on the formalism of context-free grammar was developed by generalizing the first component of production that models the source text. Unlike other synchronous grammars, the grammar allows multiple target productions to be associated to a single production rule which can be used to guide a parser to infer different possible translational equivalences for a recognized input string according to the feature constraints of symbols in the pattern. An extended generalized LR algorithm was adapted to the parsing of the proposed formalism to analyze the syntactic structure of a language. The grammar was used as the basis for building a machine translation system for Portuguese to Chinese translation. The empirical results show that the grammar is more expressive when modeling the translational equivalences of parallel texts for machine translation and grammar rewriting applications.',\n",
              "  'The paper describes che generation of electromagnetic interference on the 3 kV dc networks as a result of the rectification process and the methods that have been employed to eliminate or reduce the interference to acceptable limits. The electromagnetic interference as a result of the introduction of 25 kV and 50 kV ac networks is briefly described and a number of the problems that have arisen are described.',\n",
              "  'This paper presents a framework for networked control system simulation (NCSS) to enable the analysis of the influence of network transmissions on the performance of control systems. The simulation is composed of the network environment simulated using the network simulator, the control system component simulation using Matlab or C/C++, and an external application programming interface. To implement the plant (sensor), controller, and actuator nodes, an agent-based design is introduced, and a multi-agent networked control system is constructed. Therefore, the network simulator 2–26 (NS-2.26) release is extended by modifying the user data protocol (UDP) common header in order to support application data transmission between network nodes. Then, modifying the network topology parameters, networked control system simulations are analyzed for different parameter changes, such as the network bandwidth, the number of plant nodes, and the sampling period. An analysis of the influence of these parameters on network-induced delays and packet drop is made. The results show that the simulation system is an effective tool for the study of networked control systems.',\n",
              "  'On 31st May, Dr G F Gainsborough retired as Secretary of the IEE after 18 years of distinguished service to the Institution and to the electrical-engineering profession.',\n",
              "  \"A rough set method is presented in this paper to assess the credit of contractors. Unlike traditional methods, the rough set method deduces credit-classifying rules from actual data to predict new cases. The method uses a contractors' database with a genetic algorithm and an exhaustive reduction implemented using ROSETTA software that integrates rough set method. The classification accuracy of the rough set model is not as good as that of a decision tree, logistic regression, and neural network models, but the rough set model more accurately predicts contractors with bad credit. The results show that the rough set model is especially useful for detecting corporations with bad credit in the currently disordered Chinese construction market.\",\n",
              "  'Deviation of frequencies and time signals are with respect to the weighted mean of six quartz oscillators and time signals from WWV over 20-day intervals. A positive frequency deviation indicates that the frequency was high. A time deviation of 010 indicates that the time pulses were 0.010 second late on WWV while 990 indicates that they were 0.010 second early. A value of 46.3 milliseconds has been adopted for the propagation time of radio signals between Washington and Johannesburg.',\n",
              "  'A mathematical model is presented for the charging-up process in an air-entrapped pipeline with moving boundary conditions. A coordinate transformation technique is employed to reduce fluid motion in time-dependent domains to ones in time-independent domains. The nonlinear hyperbolic partial differential equations governing the unsteady motion of fluid combined with an equation for transient shear stress between the pipe wall and the flowing fluid are solved by the method of lines. Results show that ignoring elastic effects overestimates the maximum pressure and underestimates the maximum front velocity of filling fluid. The peak pressure of the entrapped air is sensitive to the length of the initial entrapped air pocket.',\n",
              "  'Under this heading it is proposed to give the titles and authors of papers and articles of interest to the profession which are published in the technical press, with the name and date of publication, and where possible, its estimated length in number of words. We are indebted to Industrial Engineering and The Engineering Digest (published at 220, Broadway, New York, monthly, price 20 cents) for the major portion of the information given hereunder. Copies of most of the papers referred to can be obtained for members by the Secretary on receipt of the cost, which varies from 1/- to 5/-, but as the periodicals are published abroad, two months must be allowed before they may be expected.',\n",
              "  'A general survey is given on methods of missile guidance, missile flight control systems and target tracking systems.',\n",
              "  'The paper outlines some of the components and techniques available to a network engineer in the design of precision and stable networks with emphasis on stabilization techniques used in carrier transmission networks. Recent developments in methods of obtaining pan-climatic components are discussed and illustrated.',\n",
              "  'A mathematical model is presented for transient flow in a rapidly filling pipeline with an entrapped air pocket. The influence of transient shear stress between the pipe wall and the flowing fluid is taken into account. A coordinate transformation technique is employed to generate adaptive moving meshes for the multiphase flow system as images of the time-independent computational meshes in auxiliary domains. The method of characteristics is used to reduce the coupled nonlinear hyperbolic partial differential equations governing the motion of the filling fluid, entrapped air, and blocking fluid to ordinary differential equations. Numerical solution of resulting equations shows that the transient shear stresses have only a small damping effect on the pressure fluctuations. The peak pressure in the entrapped air pocket decreases significantly with increasing initial entrapped air volume, but decreases slightly with increasing initial entrapped air pressure.',\n",
              "  'Photonic integration technologies, which have been developed since the deployment of optical communications, are essential for increasing the network capacity at a low cost and with efficient power consumption. This paper reviews recent progress on photonic integrated devices for higher bit-rate and long-distance transmission technologies with advanced modulation formats.',\n",
              "  '(Incorporating the South African Branch of the British Standards Institution.)',\n",
              "  'GEC produced this completely revised and enlarged edition to complement the introduction of their GE-MOV mark II metal oxide varistors. These protection devices cover the range from below 2 J and 100 A to 600 J and 25 kA, for ac operating voltages from 10 V to 1 000 V.',\n",
              "  'High spectral efficiency distributed antenna systems (DAS) require vertical Bell-Labs layered space-time (V-BLAST) like spatial multiplexing schemes. However, unlike normal point-to-point multiple input multiple output (MIMO) channels, DAS channels have different large-scale fadings from different transmit antennas, thus making equal power and rate transmission that is feasible in MIMO channels unrealistic in DAS channels. This paper proposes a novel transmit antenna selection scheme with power and rate allocation. The scheme is based on large-scale fading (shadow fading and path loss) and is suitable for VBLAST structures with zero-forcing and successive interference cancellation (ZF-SIC) receivers, ensuring balanced average symbol error rate (SER) performance in each layer. On the receiver side, a fixed detection order is used, which is obtained in the transmit antenna selection process. Simulation results show that the proposed scheme gives good performance gains over equal power and rate transmission systems without antenna selection.',\n",
              "  'Magnetic cores made of ferrite are nowadays irreplaceable in many spheres of telecommunications.',\n",
              "  'On Saturday afternoon, the 15th July, by the kind invitation of the Directors and the Chief Engineer of the Company, about 70 members of the Institute, paid a visit to the Generating Station at Simmer Pan, near Germiston. The bitterly cold weather kept a number of members away who otherwise would have been present. The party was received at the offices by Mr. Bernard Price (a Vice-President of the Institute) the Chief Engineer ; Mr. C. W. R. Campbell (Past President) the Distribution Superintendent ; Mr. S. H. Barber, Station Superintendent ; Mr. J. Lang, Engineer-in-charge ; Mr. J. G. Bell, System Superintendent ; Mr. A. G. F. Heather, Asst. Distribution Superintendent ; and other officials. The visitors were divided into nine parties, and were conducted through the whole station, the visitors taking nearly an hour and a half in their visit of inspection.',\n",
              "  'This paper is a sequel to that entitled ‘Lightning investigation on an 88-kV transmission line in Southern Rhodesia’ which was presented before the Institute in 1948, and now outlines more definite conclusions in respect of the characteristics of lightning, its frequency of occurrence and its severity. The effect of geological formations, heights of towers, span lengths, etc., are discussed, and the performance of an instrument for recording lightning strokes is described. Part II of the paper compares the actual with the estimated performance of the 88-kV line and curves and data are included to indicate the probable performance of typical lines of various voltages up to and including 220-kV. Recommendations for outage levels are made and the earthing conditions to meet them are discussed. Standard impulse insulation levels for transmission lines are suggested, and the factors governing the design of lightning-resistant lines are enumerated.',\n",
              "  'Dimming control is an essential function for visible light communication. Conventional studies focus on single domain (including signal domain and spatial domain) adjustment to achieve varied dimming levels. This paper proposes to simultaneously utilize multi-domain resources to achieve the dimming function. Since another degree of freedom is added for dimming control, the performance of this joint design outperforms conventional studies, which is verified by simulation results.',\n",
              "  'The purpose of this paper is to present a very brief review of one of the most overlooked pieces of equipment In the electrical and electronic fields for combating Electromagnetic Interference (mains supply borne) namely, the transformer, and more specifically, the double-wound or isolation transformer.',\n",
              "  'The need for optically-isolated current measuring systems is justified in relation to the high cost of conventional current transformers. The systems already developed and being tested are tabled and a simple system which uses Delta modulation (ie, digital signals) is described. Test results are given and verify the feasibility of this system. The implications of these systems are discussed.',\n",
              "  'We propose and demonstrate a new method to obtain high-purity LG beams from GV beams. This is also an amazing natural phenomenon that we found, namely, a light with Gaussian intensity can be transformed into a light with hollow ring intensity only through spatial filtering. In view of this phenomenon, we explain it from the two aspects of frequency domain filtering and spatial convolution. This method can be used to produce relativistic vortex beams with broad application prospects.',\n",
              "  'A review of redundancy techniques including error control coding, triple modular redundancy and standby spiring is presented, and the improvement in system reliability obtainable for each technique it evaluated.',\n",
              "  'Held in the Main Hall, Kelvin House, Johannesburg, on Thursday, 24th June, 1971 at 6.30 pm.',\n",
              "  'Topology design of artificial neural networks (ANNs) is an important problem for large scale applications. This paper describes a new efficient pruning method, the multi-weight optimal brain surgeon (MWOBS) method, to optimize neural network topologies. The advantages and disadvantages of the OBS and unit-OBS were analyzed to develop the method. Actually, optimized topologies are difficult to get within reasonable times for complex problems. Motivating by the mechanism of natural neurons, the MW-OBS method balances the accuracy and the time complexity to achieve better neural network performance. The method will delete multiple connections among neurons according to the second derivative of the error function, so the arithmetic converges rapidly while the accuracy of the neural network remains high. The stability and generalization ability of the method are illustrated in a Java program. The results show that the MWOBS method has the same accuracy as OBS, but time is similar to that of unit-OBS. Therefore, the MWOBS method can be used to efficiently optimize structures of neural networks for large scale applications.',\n",
              "  'Provisional applications for Letters Patent will be inserted in this list as well as complete Specifications. Complete Specifications have to be submitted within nine months after the provisional application has been supplied, and on the acceptance of the complete Specification, the applicant must advertise it in three issues of the Gazette. The application and Specification, together with drawings, etc., shall thereupon be open to public inspection. Any person may within two months from the date of the latest advertisement, or about eleven weeks from the date of acceptance, give notice in writing to the Registrar of Patents of any objection to the granting of such patent.',\n",
              "  'Methods of estimating common mode induced voltages are mentioned. Means of screening against these voltages are described. The necessity of earthing a conducting screen at both ends is emphasised end the desirability of an additional steel screen it mentioned.',\n",
              "  'Most Topology control (TC) researches in wireless sensor networks focus on specific algorithms. This paper proposes the problem that which criterion should be adopted for the selection of Connectivity type TC and Coverage type TC. By defining “density of events” as the decision criterion, the corresponding threshold values are computed. Simulations indicate that the criteria analyzed are directive and reasonable.',\n",
              "  'The Kentucky Display Terminal was developed at NIDefR to fill a requirement for a rugged terminal which could be used in a vehicle during field work. This implied that the terminal should be small, rugged, have a low power consumption and be capable of operating from a 28 V de supply driving other equipment. It also had to be programmable to fulfil various terminal tasks, yet remain simple. Further, a natural requirement was an easy legible display with ample brightness for use in shaded daylight.',\n",
              "  'Independent commissions which were appointed to evaluate the causes of the accident at the Three Mile Island nuclear power plant in the USA exposed major weaknesses in the man/machine interface which they felt might be common to other similar plants. Strengthening this link is regarded as twofold:',\n",
              "  'Electro-optic entanglement is vital to combine the two worlds of superconducting and photonic quantum systems. However, achieving tunable and wideband electro-optic entanglement is still an unresolved challenge. In this work, a novel approach for tunable microwave and optical fields entanglement is proposed using an electrical capacitor loaded with graphene plasmonic waveguide.',\n",
              "  'Discharges from power lines cause the radiation of high level wide spectrum electromagnetic noise. The location of the point source of the noise often proves to be a difficult and time-consuming process, This paper discusses spark generated noise sources and the radiation characteristics of power lines and describes methods using radio direction finding and spectrum analysis techniques for locating noise producing faults accurately and quickly.',\n",
              "  'This paper describes a novel balanced transmission line antenna where the maximum separation between the two conductors is only a fraction of a wavelength at the lowest operating frequency. The balanced transmission line is formed by exponentially extending the ridges of a double-ridged waveguide. The poor VSWR and patterns caused by reflections from the tips of the ridge extensions are improved by a combination of aperture matching and the use of microwave absorber. Measured VSWR, radiation pattern and gain data are presented for this compact, broadband antenna over the 2 to 11 GHz frequency range.',\n",
              "  \"In order to unlock the maximum flexibility potential of all levels in the power system, distribution-network-located flexible energy resources (FERs) should play an important role in providing system-wide ancillary services. Frequency reserves are an example of system-wide ancillary services. In this regard, this article deals with the optimal operation of a local energy community (LEC) located in the distribution network. The LEC is proposed to participate in providing manual frequency restoration reserves (mFRR) or tertiary reserves. In addition, the community is supposed to have a number of electric vehicles (EVs) and a battery energy storage system (BESS) as FERs. The scheduling of the community, which is fully compliant with the existing balancing market structure, comprises two stages. The first stage is performed in day-ahead, in which the energy community management center (ECMC) estimates the amount of available flexible capacities for mFRR provision. In this stage, control parameters are deployed by the ECMC in order to control the offered flexibility of the BESS. In the second stage, the real-time scheduling of the community is performed for each hour, taking into account the assigned and activated amount of reserve power. The target of the real-time stage is to maximize the community's profit. Finally, the model is implemented utilizing a case study considering different day-ahead control parameters of the BESS. The results demonstrate that the proposed control parameters adopted in the day-ahead stage considerably affect the real-time profitability of the LEC. Moreover, according to the simulation results, participating in the mFRR market can bring additional profits for the LEC.\",\n",
              "  \"A copy of this report, which is published by the Prevention of Accidents Committee, is available to members in the Institute's Library.\",\n",
              "  'This is a revised version of the manuscript entitled !0Performance Analysis and Experimental Investigation of Physical-Layer Security in OCDMA-Based Hybrid FSO/Fiber Wiretap Channel!1. (ID: PJ-009114-2019). Attached please find the revised version, which we would like to submit for your kind consideration. It should be noted that the ID of the manuscript submitted for the first time is PJ-008994-2019.',\n",
              "  'Held in the Upper Lecture Hall, University of Pretoria, Hatfield, Pretoria, on Thursday, 23rd April, 1964.',\n",
              "  'We study the outage performance of a complex system consisting of free-space optical (FSO)/radio frequency (RF) link. We derive novel analytical expressions for overall outage probability that are utilized for optimizing the laser beam radius at the waist in the presence of Nakagami-m multipath fading and Gamma shadowing over the RF part. The effects of atmospheric turbulence, pointing errors and path loss over the FSO part are taken into account. The aim is to examine the effect of optimization of laser beam radius at the waist on outage performance under different conditions over both links.',\n",
              "  'Presents the table of contents for this issue of the periodical.',\n",
              "  'This paper describes the design, construction and operation of an instrument that records:',\n",
              "  'Retracted.',\n",
              "  'To complete the remarks I have already made I wish to answer the outstanding items raised at the discussion in the order in which they were contributed.',\n",
              "  'The fifth annual dinner of the Natal centre was held at the Marine Hotel, Esplanade, Durban, on Thursday, 20th September, 19G2.',\n",
              "  'A general review of the socio-economic impact of the intelligent transport system (ITS) is presented with a case study to demonstrate the data envelopment analysis method. Cost-benefit analyses are still the dominant method for evaluating ITS and other transport engineering projects, while cost effective analyses and multi-criteria appraisals are widely used to define and prioritize objectives by providing useful information for the most promising policy decisions. Both cost-benefit analyses and a data envelopment analysis method are applied to analyze the socio-economic impact of convoy driving systems. The main findings are that a convoy provides a worthwhile benefit-cost ratio when more than 30% of the traffics in the convoys and the traffic load exceeds 5500 vehicles/h for a three-lane motorway. The results also show that for a fixed percentage of convoys, increased demand will increase the data envelopment analysis method relative efficiency and that the neglect of certain output indicators of an ITS may result in underestimation of the system effects.',\n",
              "  'This work presents a broad look at a characteristion technique allowing for real-time, single shot characterisation of the complex electric field of a swept laser source. Applied to a state-of-the-art VCSEL, we demonstrate the power of this technique, as well as a measurement of the parameters of the laser directly relevant to OCT. This technique can be readily adapted to many swept sources for direct characterisation, providing improved design and more informed optimisation for future devices.',\n",
              "  'This paper extends our understanding of the impact of a single fiber bend to the more realistic case of multiple fiber bends on OAM mode propagation. In addition to providing new analytic expression for crosstalk, useful in fiber design, the analysis enables for the first time a deeper insight into the experimentally observed angular distributions of the output intensity of OAM modes traversing such bends as for example in the scenario of a fiber spool followed by a polarization controller.',\n",
              "  'The Secretaries will appreciate notification of the addresses of any of the following',\n",
              "  'Frequency deviations are given with respect to GBR and NBA frequencies (24-hour means). A positive frequency deviation indicates that the frequency was high.',\n",
              "  'The 284th general meeting was held at the University of Cape Town on 12th June 1980 and attended by 27 members and guests who were welcomed by Prof Enslin on behalf of the Principal of the University, Sir Richard Luyt.',\n",
              "  'The paper deals with improvements on the EMI susceptibility of computer systems. The initial step in solving EMC problems is always the assessment of the electromagnetic environment. The instruments and diagnostic methods are described in detail. The next Step it usually the inspection of the grounding system, with measurements, and the search for and elimination of ground loops. Logic ground, mains ground and virtual ground systems are discussed. Finally Improvements of the quality of the mains supply, which involves the motor alternators, isolation transformers, constant voltage transformers, varistors and transzorb devices, are considered.',\n",
              "  'Proper consideration must be given to receiver characteristics when frequencies are assigned to broadcasting stations within the bands allocated to the broadcasting service. The restrictions in frequency planning arising from these requirements are discussed for the various broadcasting bands, and brief comments on certain bands assigned for future use are included.',\n",
              "  \"A NEW fire protection coating for electrical cable installations — the life blood of any industry — has been introduced to the South African market. Called Flammastik, this white, pasty compound evolved out of the U S space programme of the Sixties when scientists sought a protective coating for millions of rands of equipment that would be subjected to hitherto unknown temperatures in rocket launches, and also on the re-entry of missiles into the earth's atmosphere.\",\n",
              "  'Today the new interest in the electric vehicle is undeniable and this review paper is valuable in highlighting the basic or fundamental problem of battery weight and power. Governments in several countries are now sponsoring R & D, as this is a matter of national importance.',\n",
              "  'This paper outlines the principles of some radar signal processes and in particular demonstrates the effectiveness and simplicity of optical and acoustic analog methods.',\n",
              "  'We demonstrate a method to generate a low-chirp ultra-wideband pulse (UWB) signal based on a silicon single-drive push-pull segmented Mach-Zehnder modulator (SMZM). As far as we know, this is the first time to realize low-chirp UWB signals using only one silicon modulator. The successful generation of UWB signals using our silicon SMZM poses a significant step in realizing a compact low-cost and low-chirp UWB generator on the silicon photonics platform for UWB wireless communications.',\n",
              "  'Members of the Institute visiting Cape Town are cordially invited to attend general meetings of the Cape Western Local Centre which are normally held in the Demonstration Theatre, Electricity House, Strand Street, Cape Town, on the second Thursday of each month.',\n",
              "  'The American Institute of Electrical Engineers held its third conference on rectifiers in industry in 1962. The presidential address contained the interesting information that the first such conference, in 1952, was devoted principally to mercury arc rectifiers, with some attention to selenium and copper oxide as rectifying elements. To quote from a summary of this conference:',\n",
              "  \"The conventional traffic demand forecasting methods based on revealed preference (RP) data are not able to predict the modal split. Passengers' stated intentions are indispensable for modal split forecasting and evaluation of new traffic modes. This paper analyzed the biases and errors included in stated preference data, put forward the new stochastic utility functions, and proposed an unbiased disaggregate model and its approximate model based on the combination of RP and stated preference (SP) data, with analysis of the parameter estimation algorithm. The model was also used to forecast rail transit passenger volumes to the Beijing Capital International Airport and the shift ratios from current traffic modes to rail transit. Experimental results show that the model can greatly increase forecasting accuracy of the modal split ratio of current traffic modes and can accurately forecast the shift ratios from current modes to the new mode.\",\n",
              "  'Since the invention of the junction transistor at Bell Laboratories some 15 years ago a host of different methods of producing junctions has been developed. However, they may be grouped into three basic methods with a further group which does not produce a true junction, viz. plating as used in surface barrier transistors (SBT). The three basic methods are growing, alloying and diffusing.',\n",
              "  'An outline is given of the role of the power line teleprotection system in the overall protection scheme for a high voltage transmission line. The influence of corona noise on the performance of the teleprotection system is discussed, and statistical measurements done on the corona noise are described. The results of these measurements show that although band limited corona noise has an amplitude distribution not entirety similar to that of white noise, white noise may often be used as a substitute for corona noise in che laboratory evaluation and testing of teleprotection systems.',\n",
              "  'A digital system simulator is described which hat been designed to execute on a minicomputer with limited memory capacity. It is interactive, fast in execution, and capable of modelling networks comprising many hundreds of logic elements. The language used for the symbolic representation of the network is defined in terms with which the digital systems design engineer is familiar. The system has facilities for comparing the logical states derived by simulation with those occurring in the hardware implemented system. This feature permits automatic fault diagnosis to be performed on constructed hardware.',\n",
              "  'After brief mention of various lighting protectors, the advantages of a particular type of geometry for a three-electrode protector are discussed. The performance of a compact protector of this type is considered.',\n",
              "  \"The inaugural meeting of the Students' Section will be held at Kelvin House on Tuesday, May 26th, at 8 p.m.\",\n",
              "  'The history of Electromagnetic Interference, dating from 1920. is given. Not only communications engineers but more generally electrical engineers and, more recently, computer engineers, biologists and physicians are part of the EMC community. There are International organisations like IEC, CISPR, NASA and national committees who deal with specifications on EMC, International EMC symposia are held every second year in Europe apart from similar meetings held in Eastern Europe. In South Africa a number of statutory bodies have representatives in the Working Groups on ‘Sources’ and ‘Receptors’ which operate within the High Voltage Co-ordinating Committee of the CSIR.',\n",
              "  'There were present 85 members and visitors and the Secretary.',\n",
              "  '(President) was in the Chair and declared the meeting open at 8 p.m. There were present 75 members, visitors and the Assistant Secretary.',\n",
              "  'The appropriate C.M.A. Technical Committee have considered this publication with interest~ and are pleased to offer their comments upon it as follows',\n",
              "  'The first ordinary general meeting of the South African Institute of Electrical Engineers was held in the Lecture Theatre of the Transvaal University College, Johannesburg, on Thursday, the 13th January, 1910, at 8.15 p.m., Mr. C. W. R. Campbell (President) in the chair.',\n",
              "  \"The President : Those of you who have read Mr. McCann's paper will notice that he confines his remarks to two-stage compressors, either large compressors direct coupled to steam engines, large compressors belt driven by motors, or small compressors belt or gear driven. Apparently he is considering only those types of compressors which up till recently have been general on the Rand. As you know, there are now some very large compressors here of the turbine type being put in both at Rosherville and at the Robinson Mine, and if any gentleman present has anything he can tell us about that type of compressor, as compared with reciprocating compressors, I am sure it would be a valuable contribution.\",\n",
              "  'In this paper an attempt is made to explain a wide variety of observed Interference phenomena by means of a theoretical model. A system is analysed in terms of an interference source circuit, an interference receiving circuit and the possible couplings which can exist between the two. Simple equivalent circuits are proposed and the transfer of interference from source to receiver is analysed by means of frequency transfer function techniques. It is shown that earth structures play a very important role in these situations and the role of earth connections, screens etc in suppressing interference is analysed.',\n",
              "  \"The Council of the Institute is indebted to the Editor of the Star for permission to reproduce the newspaper report of the Institute's Annual Banquet.\",\n",
              "  'After the historical development of engineering has been outlined to arrive at the concept of ‘environmental design’, the chaos currently present in some countries is discussed briefly in order to define its multiple cause. Subsequently the multiple solution to the problem is indicated, stressing that it has mainly a philosophical character, without which the process of environmental impact control, which is also discussed in general, cannot be executed effectively. It is explained that the appropriate philosophy centres around the proper definition of ‘environment’, and that the issue at stake is really the maintenance of balance between nature conservation and cultural development. Finally, the matrix and mapping techniques for documenting data in the environmental impact analysis process are discussed briefly.',\n",
              "  'The majority of electrical engineers are concerned with the distribution of electricity in some form or other. Probably the most important component on such systems is the distribution transformer. It has been estimated that there are about 24 000 of these in the Republic and the annual increase is at present about 2000. This has resulted in the development of a healthy local manufacturing industry. It has also made the general subject of transformers all the more interesting since the members of our Institute now include those directly concerned with all aspects from manufacture to maintenance. At the same time, because there are so many firms manufacturing transformers and so many supply authorities ordering, installing, and maintaining them, there is a relatively wide divergence of opinion on many features concerning this apparently simple bit of apparatus.',\n",
              "  'The widespread 5G base stations can be potential jammers for the vulnerable BeiDou B1I receivers due to its low power. Therefore, a novel analytical model is derived for the 5G signal to evaluate its impact on acquisition performance under three decision methods. The good agreement between the Monte Carlo method (MCM) through software defined receiver (SDR) and the derived expressions validates the effectiveness of the proposed algorithm. It can be found that the receivers exhibit varied responses for different 5G waveforms and decision strategies. The receiver also shows the least endurances for some kind of 5G waveforms, however, this kind of adverse effect can be cancelled by a reduced interference signal ratio (ISR), an increased integration time or a larger accumulation times.',\n",
              "  'Askarels are members of a family of chemicals known as polychlorinated biphenyls (PCB) and were first synthesized during the 1930s. They have been used in many products such as paints, special inks and plastics and, in a fluid form, in hydraulics and as an insulant and coolant in electrical equipment such as capacitors and transformers.',\n",
              "  '(Hon. Treasurer) : In a country like this, with propositions so widely distributed and so isolated, I think this subject, which Mr. Woodworth has brought up so ably, is one deserving of discussion by every member. I hope before the discussion closes to have something more to say about it myself, but in the meantime, I should like to ask the author if he would kindly give us in his reply some information relating to the class 5 machines — separators using static electricity. He refers to the fact that in the United States and Mexico particularly, such machines are very largely used, and are very successful. Many of you know that Professor Dobson, some time ago, carried out a number of experiments with a static separator in the laboratory of this College, but I do not know that any practical result came from them. At any rate, many points were brought forward which were of great interest. Personally, I know very little about these static separators and bow far they have been successful in other parts of the world, but 1 am sure that if Mr. Woodworth would give us some figures in connection with them, they would be much appreciated. The static machine, which was used in connection with the experiments I have mentioned, is in the laboratory now, and members will have an opportunity of seeing it working at the close of this meeting.',\n",
              "  '(President) was in the Chair and declared the meeting open at 8 p.m. There were present 60 members and visitors and the Secretary.',\n",
              "  'The use of radio communication in the South African mining industry has only recently become significant. It is, however, a subject which is now receiving considerable attention at a research and development level both in this country and overseas, and working systems have been installed in various underground mines. The techniques used differ quite markedly from those used for radio communication above ground and this paper describes very briefly the propagation mechanisms involved so that the significance of the effects of rock strata on both wanted and unwanted radio signal propagation are appreciated.',\n",
              "  'The Practical Electro-Deposition of Gold. August Hoffman. Metal Industry. April, 1910. 1,700 words (Serial). Describes method of preparing articles to be gilded and the production of the Roman gold finish.',\n",
              "  'We propose a fast calibration for the random phase modulation OPA LiDAR. Experimental results demonstrate that, to obtain images of the same quality, the proposed calibration is 3 times faster than the calibration used in raster scanning scheme. In the meantime, the proposed calibration simultaneously retrieves the point spread function of the imaging system during the process, which can be used to remove the image blurring caused by the sidelobes and further improve the image quality.',\n",
              "  \"The Seventh General Meeting of the Students' Section was held in Kelvin House on Thursday, the 4th February, 1937, at 8 p.m.\",\n",
              "  'The Action of the X-Ray in Large and Small Doses. — Since the discovery of the X-rays and their application to therapeutics, many and various results have been obtained from their use, results often quite contradictory in character, the explanations of which have at times been distinctly puzzling. It has been difficult in many instances to explain why in one case the use of the rays would cause degeneration and at others regeneration of similar tissues; why, for example, in one patient superflous hair would be removed and in another the use of the rays on a smooth skin would result in a profuse hirsute adornment. In recent years, however means have been devised of regulating the dose of the X-rays and of estimating in units the amount of radiation being administered in each case. This has made the study of the action more accurate and has enabled the illumination of several obscure points. In the Berliner klinische Wochenschrift for May 23, 1910, H. E. Schmidt reports a small series of experiments into the effect of various doses of the X-ray upon cell growth. Having soaked a number of beans in water for six hours he treated the different beans with different doses of rays, and then planted them. His results were quite uniform and demonstrated two points of interest. Whereas those beans which were treated with large doses of the rays were partially or completely inhibited in their growth, as compared to untreated control beans, those which received very small doses were distinctly stimulated; not only were the plants larger and more vigorous, but the flowers were larger and the resulting crop of beans better. From these findings Schmidt suggests that the same principle may apply to animal cells, and experiments which he carried out on an ulcer on the arm suggested that this is the case. If this be so, it is evident that in treating conditions in which healing is desired, as a sluggish ulcer, very small doses of the X-ray should be used, whereas in cases of malignant growth, where tissue destruction is required, large doses are needed, and small doses instead of destraying the neoplasm may do harm rather than good by stimulating it to renewed activity. — Electrical Review and Western Electrician, July 30. 1910, p. 234.',\n",
              "  'This proved to be a lively session and over 20 participants contributed to the discussion. This was initiated in a series of short keynote presentations by several speakers.',\n",
              "  'The Workshop had two contributions: Firstly, cabling, bonding and connectors by W W Schroeder and, secondly EMC measurements using a spectrum analyser by R J Hayes. The Workshop participants had many questions regarding the EMC field and there were lively discussions. It was requested from the floor that a guide should be written on EMC in the computer field.',\n",
              "  'Deviations of frequencies are with respect to time signals from WWV over 20-day intervals, and with respect to the GBR 16kc/sec. frequencies (24-hour means). A positive frequency deviation indicates that the frequency was high.',\n",
              "  'There were present 55 members and visitors and the Secretary.',\n",
              "  'Pixel isolation in monolithic GaN micro-light emitting diode displays is a common issue. One method of pixel isolation is to etch down to the insulating substrate. In high pixel density devices, it is difficult to bridge these high aspect ratio trenches with interconnects. Here we present an efficient method of planarizing high aspect ratio isolation trenches with a hard baked, inert photoresist layer, allowing for interconnect formation on a smooth, continuous surface, solving this issue.',\n",
              "  'Electric Power in Colleries. — A paper by Mr. F. Anslow, entitled, “Some Considerations affecting the installation of Power at Collieries,” was among those discussed at the meeting at Dunfermline of the Mining Institute of Scotland, on June 17th. Mr. Anslow, in dealing with existing steam plants at collieries, said that these were often destitute of condensing plant, partly on account of difficulties in running winding engines condensing, but he showed that in most cases, except where increased power is required, the cost of adding condensers to improve the economy was not justified. Where extensions are required, however condensing plant and exhaust, or mixed turbines driving electrical generators, will render considerable extra power available without extra steam being required from the boilers. Details were given of a case where an extra 500 KW. was thus made available. Even where a large proportion of steam plant is already condensing, considerable extra power can be obtained by the installation of mixed pressure turbo plant, and particulars were given of an example to illustrate this.',\n",
              "  'Remote Control Switches. — It is in many instances highly desirable to effect the control of circuits from a distance without the necessity for having to handle the ponderous circuit breakers which are essential for breaking heavy currents in air. In motor control work, remote operation removes the more or less inexpert workmen to a position well away from the electrical apparatus.',\n",
              "  'The majority of telemetry systems installed in (old mines rely on at least a pair of wires as the transmission medium. The wires are generally part of a mullicara armoured cable which often there the same cable duct at 6,6 kV, 520 V and 110 V power cables. Other cables in the vicinity may carry telephone or control signals. The stray coupling of electric currents between these cables, and in particular between pairs in the tame cable, results in interference with a telemetry signal. This paper indicates the likely interference sources and the magnitude and frequency spectra of the induced noise measured on various types of underground cables.',\n",
              "  'The eighteenth ordinary general meeting of the South African Institute of Electrical Engineers was held in the Lecture Theatre of the South African School of Mines, Johannesburg, on Thursday, the 27th July, 1911, at 8 p.m., Mr. J. H. Rider (President), in the chair.',\n",
              "  \"The first relay was developed and used by Wheatstone in 1838 for telegraphy purposes. This resulted in a tremendous increase in the efficiency of the telegraph system as a whole. Similar advantages were experienced in telephone circuits when the Americans Connolly and Tighe used relays to transmit the dial impulses from the subscribers' telephones to the actual selectors, instead of attempting to control the selectors directly.\",\n",
              "  '(President) was in the Chair and declared the meeting open at 8 p.m. There were present 110 members and visitors and the Secretary.',\n",
              "  'There were present 75 members and visitors and the Secretary.',\n",
              "  '(President) was in the Chair and declared the meeting open at 8 p.m.',\n",
              "  'With the high voltage 50 Hz electrification of certain main RSA Railway routes came the problem of induction of this low frequency and its harmonics into open wire carrier lines which run parallel to the railways. Because of the accurately balanced exposure and the immaculate construction of these open wire lines the effect of induction is primarily in the longitudinal or common mode sense. High Induced voltages, besides being personnel hazards, eventually results in degraded performance so it is necessary to break up each pair of wires into sections to limit this effect.'])"
            ]
          },
          "metadata": {},
          "execution_count": 18
        }
      ]
    },
    {
      "cell_type": "code",
      "source": [
        "indices_to_drop = [ index for index in range(len(df)) if df.iloc[index]['abstracts'] in inoappropriate_abstracts]"
      ],
      "metadata": {
        "id": "MQSst2EpEYWC"
      },
      "execution_count": null,
      "outputs": []
    },
    {
      "cell_type": "code",
      "source": [
        "df = df.drop(indices_to_drop).reset_index(drop=True)"
      ],
      "metadata": {
        "id": "SNLzecLnEYa6"
      },
      "execution_count": null,
      "outputs": []
    },
    {
      "cell_type": "code",
      "source": [
        "df.shape"
      ],
      "metadata": {
        "colab": {
          "base_uri": "https://localhost:8080/"
        },
        "id": "Vv3JtRpuF6A2",
        "outputId": "f0b1207c-98dc-43d2-f108-d584bdf2b809"
      },
      "execution_count": null,
      "outputs": [
        {
          "output_type": "execute_result",
          "data": {
            "text/plain": [
              "(40457, 3)"
            ]
          },
          "metadata": {},
          "execution_count": 21
        }
      ]
    },
    {
      "cell_type": "code",
      "source": [
        "indices_to_drop.clear()\n",
        "\n",
        "for i in range(len(df)):\n",
        "  temp = str(df.iloc[i]['ieee_keywords'])\n",
        "  temp_list = [ item.replace(\" '\",\"\").replace(\"'\",\"\").lower() for item in re.split(\",\", temp.replace(\"[\",\"\").replace(\"]\",\"\")) ]\n",
        "  for space in temp_list:\n",
        "    if space == \"\":\n",
        "      indices_to_drop.append(i)\n",
        "      break"
      ],
      "metadata": {
        "id": "oAfu63LiVfc8"
      },
      "execution_count": null,
      "outputs": []
    },
    {
      "cell_type": "code",
      "source": [
        "df = df.drop(indices_to_drop).reset_index(drop=True)"
      ],
      "metadata": {
        "id": "B7za__9XVviz"
      },
      "execution_count": null,
      "outputs": []
    },
    {
      "cell_type": "code",
      "source": [
        "df.shape"
      ],
      "metadata": {
        "colab": {
          "base_uri": "https://localhost:8080/"
        },
        "id": "xRrHHy0yV9Ba",
        "outputId": "ba19c797-1010-433e-8141-b1ab93077d10"
      },
      "execution_count": null,
      "outputs": [
        {
          "output_type": "execute_result",
          "data": {
            "text/plain": [
              "(39896, 3)"
            ]
          },
          "metadata": {},
          "execution_count": 24
        }
      ]
    },
    {
      "cell_type": "code",
      "source": [
        "for index in range(len(df)):\n",
        "  df.iloc[index]['ieee_keywords'] = [ item.replace(\" '\",\"\").replace(\"'\",\"\").lower() for item in re.split(\",\", df.iloc[index]['ieee_keywords'].replace(\"[\",\"\").replace(\"]\",\"\")) ]\n",
        "  df.iloc[index]['author_keywords'] = [ item.replace(\" '\",\"\").replace(\"'\",\"\").lower() for item in re.split(\",\", df.iloc[index]['author_keywords'].replace(\"[\",\"\").replace(\"]\",\"\")) ]"
      ],
      "metadata": {
        "id": "xzH_LrPnEYeb"
      },
      "execution_count": null,
      "outputs": []
    },
    {
      "cell_type": "code",
      "source": [
        "keywords = []\n",
        "\n",
        "for index in range(len(df)):\n",
        "  words = df.iloc[index]['ieee_keywords']\n",
        "  temp = [ word for word in df.iloc[index]['author_keywords'] if word not in words ]\n",
        "  words.extend(temp)\n",
        "  keywords.append(words)"
      ],
      "metadata": {
        "id": "6MqkXneDWI7J"
      },
      "execution_count": null,
      "outputs": []
    },
    {
      "cell_type": "code",
      "source": [
        "df['draft_keywords'] = keywords"
      ],
      "metadata": {
        "id": "Ld7uvU5bXJam"
      },
      "execution_count": null,
      "outputs": []
    },
    {
      "cell_type": "code",
      "source": [
        "df = df.drop(columns=['ieee_keywords', 'author_keywords']).reset_index(drop=True)"
      ],
      "metadata": {
        "id": "zr1gMfEuXL32"
      },
      "execution_count": null,
      "outputs": []
    },
    {
      "cell_type": "code",
      "source": [
        "df.shape"
      ],
      "metadata": {
        "colab": {
          "base_uri": "https://localhost:8080/"
        },
        "id": "BDK3-iBnXOZO",
        "outputId": "a1b7c7e9-9a99-45f0-911e-8c6364c385d3"
      },
      "execution_count": null,
      "outputs": [
        {
          "output_type": "execute_result",
          "data": {
            "text/plain": [
              "(39896, 2)"
            ]
          },
          "metadata": {},
          "execution_count": 29
        }
      ]
    },
    {
      "cell_type": "code",
      "source": [
        "df.head()"
      ],
      "metadata": {
        "colab": {
          "base_uri": "https://localhost:8080/"
        },
        "id": "FcyHYZ9XdYWN",
        "outputId": "3f66d6ff-22fe-403a-bdfc-2a096354dcda"
      },
      "execution_count": null,
      "outputs": [
        {
          "output_type": "execute_result",
          "data": {
            "text/plain": [
              "                                           abstracts  \\\n",
              "0  Motivated by the recent explosion of interest ...   \n",
              "1  At the dawn of the fourth industrial revolutio...   \n",
              "2  The Internet of Things (IoT) makes smart objec...   \n",
              "3  In the near future, i.e., beyond 4G, some of t...   \n",
              "4  The future of mobile communications looks exci...   \n",
              "\n",
              "                                      draft_keywords  \n",
              "0  [distributed processing, internet of things, c...  \n",
              "1  [conferences, machine learning, market researc...  \n",
              "2  [internet of things, medical services, network...  \n",
              "3  [5g mobile communication, cloud computing, mim...  \n",
              "4  [wireless networks, 5g mobile communication, s...  "
            ],
            "text/html": [
              "\n",
              "  <div id=\"df-4f0700c1-dda0-4bf3-bf79-152cca59f0a4\" class=\"colab-df-container\">\n",
              "    <div>\n",
              "<style scoped>\n",
              "    .dataframe tbody tr th:only-of-type {\n",
              "        vertical-align: middle;\n",
              "    }\n",
              "\n",
              "    .dataframe tbody tr th {\n",
              "        vertical-align: top;\n",
              "    }\n",
              "\n",
              "    .dataframe thead th {\n",
              "        text-align: right;\n",
              "    }\n",
              "</style>\n",
              "<table border=\"1\" class=\"dataframe\">\n",
              "  <thead>\n",
              "    <tr style=\"text-align: right;\">\n",
              "      <th></th>\n",
              "      <th>abstracts</th>\n",
              "      <th>draft_keywords</th>\n",
              "    </tr>\n",
              "  </thead>\n",
              "  <tbody>\n",
              "    <tr>\n",
              "      <th>0</th>\n",
              "      <td>Motivated by the recent explosion of interest ...</td>\n",
              "      <td>[distributed processing, internet of things, c...</td>\n",
              "    </tr>\n",
              "    <tr>\n",
              "      <th>1</th>\n",
              "      <td>At the dawn of the fourth industrial revolutio...</td>\n",
              "      <td>[conferences, machine learning, market researc...</td>\n",
              "    </tr>\n",
              "    <tr>\n",
              "      <th>2</th>\n",
              "      <td>The Internet of Things (IoT) makes smart objec...</td>\n",
              "      <td>[internet of things, medical services, network...</td>\n",
              "    </tr>\n",
              "    <tr>\n",
              "      <th>3</th>\n",
              "      <td>In the near future, i.e., beyond 4G, some of t...</td>\n",
              "      <td>[5g mobile communication, cloud computing, mim...</td>\n",
              "    </tr>\n",
              "    <tr>\n",
              "      <th>4</th>\n",
              "      <td>The future of mobile communications looks exci...</td>\n",
              "      <td>[wireless networks, 5g mobile communication, s...</td>\n",
              "    </tr>\n",
              "  </tbody>\n",
              "</table>\n",
              "</div>\n",
              "    <div class=\"colab-df-buttons\">\n",
              "\n",
              "  <div class=\"colab-df-container\">\n",
              "    <button class=\"colab-df-convert\" onclick=\"convertToInteractive('df-4f0700c1-dda0-4bf3-bf79-152cca59f0a4')\"\n",
              "            title=\"Convert this dataframe to an interactive table.\"\n",
              "            style=\"display:none;\">\n",
              "\n",
              "  <svg xmlns=\"http://www.w3.org/2000/svg\" height=\"24px\" viewBox=\"0 -960 960 960\">\n",
              "    <path d=\"M120-120v-720h720v720H120Zm60-500h600v-160H180v160Zm220 220h160v-160H400v160Zm0 220h160v-160H400v160ZM180-400h160v-160H180v160Zm440 0h160v-160H620v160ZM180-180h160v-160H180v160Zm440 0h160v-160H620v160Z\"/>\n",
              "  </svg>\n",
              "    </button>\n",
              "\n",
              "  <style>\n",
              "    .colab-df-container {\n",
              "      display:flex;\n",
              "      gap: 12px;\n",
              "    }\n",
              "\n",
              "    .colab-df-convert {\n",
              "      background-color: #E8F0FE;\n",
              "      border: none;\n",
              "      border-radius: 50%;\n",
              "      cursor: pointer;\n",
              "      display: none;\n",
              "      fill: #1967D2;\n",
              "      height: 32px;\n",
              "      padding: 0 0 0 0;\n",
              "      width: 32px;\n",
              "    }\n",
              "\n",
              "    .colab-df-convert:hover {\n",
              "      background-color: #E2EBFA;\n",
              "      box-shadow: 0px 1px 2px rgba(60, 64, 67, 0.3), 0px 1px 3px 1px rgba(60, 64, 67, 0.15);\n",
              "      fill: #174EA6;\n",
              "    }\n",
              "\n",
              "    .colab-df-buttons div {\n",
              "      margin-bottom: 4px;\n",
              "    }\n",
              "\n",
              "    [theme=dark] .colab-df-convert {\n",
              "      background-color: #3B4455;\n",
              "      fill: #D2E3FC;\n",
              "    }\n",
              "\n",
              "    [theme=dark] .colab-df-convert:hover {\n",
              "      background-color: #434B5C;\n",
              "      box-shadow: 0px 1px 3px 1px rgba(0, 0, 0, 0.15);\n",
              "      filter: drop-shadow(0px 1px 2px rgba(0, 0, 0, 0.3));\n",
              "      fill: #FFFFFF;\n",
              "    }\n",
              "  </style>\n",
              "\n",
              "    <script>\n",
              "      const buttonEl =\n",
              "        document.querySelector('#df-4f0700c1-dda0-4bf3-bf79-152cca59f0a4 button.colab-df-convert');\n",
              "      buttonEl.style.display =\n",
              "        google.colab.kernel.accessAllowed ? 'block' : 'none';\n",
              "\n",
              "      async function convertToInteractive(key) {\n",
              "        const element = document.querySelector('#df-4f0700c1-dda0-4bf3-bf79-152cca59f0a4');\n",
              "        const dataTable =\n",
              "          await google.colab.kernel.invokeFunction('convertToInteractive',\n",
              "                                                    [key], {});\n",
              "        if (!dataTable) return;\n",
              "\n",
              "        const docLinkHtml = 'Like what you see? Visit the ' +\n",
              "          '<a target=\"_blank\" href=https://colab.research.google.com/notebooks/data_table.ipynb>data table notebook</a>'\n",
              "          + ' to learn more about interactive tables.';\n",
              "        element.innerHTML = '';\n",
              "        dataTable['output_type'] = 'display_data';\n",
              "        await google.colab.output.renderOutput(dataTable, element);\n",
              "        const docLink = document.createElement('div');\n",
              "        docLink.innerHTML = docLinkHtml;\n",
              "        element.appendChild(docLink);\n",
              "      }\n",
              "    </script>\n",
              "  </div>\n",
              "\n",
              "\n",
              "<div id=\"df-e49b90a8-77d1-48fb-9782-4951206fe7c8\">\n",
              "  <button class=\"colab-df-quickchart\" onclick=\"quickchart('df-e49b90a8-77d1-48fb-9782-4951206fe7c8')\"\n",
              "            title=\"Suggest charts\"\n",
              "            style=\"display:none;\">\n",
              "\n",
              "<svg xmlns=\"http://www.w3.org/2000/svg\" height=\"24px\"viewBox=\"0 0 24 24\"\n",
              "     width=\"24px\">\n",
              "    <g>\n",
              "        <path d=\"M19 3H5c-1.1 0-2 .9-2 2v14c0 1.1.9 2 2 2h14c1.1 0 2-.9 2-2V5c0-1.1-.9-2-2-2zM9 17H7v-7h2v7zm4 0h-2V7h2v10zm4 0h-2v-4h2v4z\"/>\n",
              "    </g>\n",
              "</svg>\n",
              "  </button>\n",
              "\n",
              "<style>\n",
              "  .colab-df-quickchart {\n",
              "      --bg-color: #E8F0FE;\n",
              "      --fill-color: #1967D2;\n",
              "      --hover-bg-color: #E2EBFA;\n",
              "      --hover-fill-color: #174EA6;\n",
              "      --disabled-fill-color: #AAA;\n",
              "      --disabled-bg-color: #DDD;\n",
              "  }\n",
              "\n",
              "  [theme=dark] .colab-df-quickchart {\n",
              "      --bg-color: #3B4455;\n",
              "      --fill-color: #D2E3FC;\n",
              "      --hover-bg-color: #434B5C;\n",
              "      --hover-fill-color: #FFFFFF;\n",
              "      --disabled-bg-color: #3B4455;\n",
              "      --disabled-fill-color: #666;\n",
              "  }\n",
              "\n",
              "  .colab-df-quickchart {\n",
              "    background-color: var(--bg-color);\n",
              "    border: none;\n",
              "    border-radius: 50%;\n",
              "    cursor: pointer;\n",
              "    display: none;\n",
              "    fill: var(--fill-color);\n",
              "    height: 32px;\n",
              "    padding: 0;\n",
              "    width: 32px;\n",
              "  }\n",
              "\n",
              "  .colab-df-quickchart:hover {\n",
              "    background-color: var(--hover-bg-color);\n",
              "    box-shadow: 0 1px 2px rgba(60, 64, 67, 0.3), 0 1px 3px 1px rgba(60, 64, 67, 0.15);\n",
              "    fill: var(--button-hover-fill-color);\n",
              "  }\n",
              "\n",
              "  .colab-df-quickchart-complete:disabled,\n",
              "  .colab-df-quickchart-complete:disabled:hover {\n",
              "    background-color: var(--disabled-bg-color);\n",
              "    fill: var(--disabled-fill-color);\n",
              "    box-shadow: none;\n",
              "  }\n",
              "\n",
              "  .colab-df-spinner {\n",
              "    border: 2px solid var(--fill-color);\n",
              "    border-color: transparent;\n",
              "    border-bottom-color: var(--fill-color);\n",
              "    animation:\n",
              "      spin 1s steps(1) infinite;\n",
              "  }\n",
              "\n",
              "  @keyframes spin {\n",
              "    0% {\n",
              "      border-color: transparent;\n",
              "      border-bottom-color: var(--fill-color);\n",
              "      border-left-color: var(--fill-color);\n",
              "    }\n",
              "    20% {\n",
              "      border-color: transparent;\n",
              "      border-left-color: var(--fill-color);\n",
              "      border-top-color: var(--fill-color);\n",
              "    }\n",
              "    30% {\n",
              "      border-color: transparent;\n",
              "      border-left-color: var(--fill-color);\n",
              "      border-top-color: var(--fill-color);\n",
              "      border-right-color: var(--fill-color);\n",
              "    }\n",
              "    40% {\n",
              "      border-color: transparent;\n",
              "      border-right-color: var(--fill-color);\n",
              "      border-top-color: var(--fill-color);\n",
              "    }\n",
              "    60% {\n",
              "      border-color: transparent;\n",
              "      border-right-color: var(--fill-color);\n",
              "    }\n",
              "    80% {\n",
              "      border-color: transparent;\n",
              "      border-right-color: var(--fill-color);\n",
              "      border-bottom-color: var(--fill-color);\n",
              "    }\n",
              "    90% {\n",
              "      border-color: transparent;\n",
              "      border-bottom-color: var(--fill-color);\n",
              "    }\n",
              "  }\n",
              "</style>\n",
              "\n",
              "  <script>\n",
              "    async function quickchart(key) {\n",
              "      const quickchartButtonEl =\n",
              "        document.querySelector('#' + key + ' button');\n",
              "      quickchartButtonEl.disabled = true;  // To prevent multiple clicks.\n",
              "      quickchartButtonEl.classList.add('colab-df-spinner');\n",
              "      try {\n",
              "        const charts = await google.colab.kernel.invokeFunction(\n",
              "            'suggestCharts', [key], {});\n",
              "      } catch (error) {\n",
              "        console.error('Error during call to suggestCharts:', error);\n",
              "      }\n",
              "      quickchartButtonEl.classList.remove('colab-df-spinner');\n",
              "      quickchartButtonEl.classList.add('colab-df-quickchart-complete');\n",
              "    }\n",
              "    (() => {\n",
              "      let quickchartButtonEl =\n",
              "        document.querySelector('#df-e49b90a8-77d1-48fb-9782-4951206fe7c8 button');\n",
              "      quickchartButtonEl.style.display =\n",
              "        google.colab.kernel.accessAllowed ? 'block' : 'none';\n",
              "    })();\n",
              "  </script>\n",
              "</div>\n",
              "\n",
              "    </div>\n",
              "  </div>\n"
            ]
          },
          "metadata": {},
          "execution_count": 30
        }
      ]
    },
    {
      "cell_type": "code",
      "source": [
        "available_keywords = {}\n",
        "\n",
        "keywords_list = df['draft_keywords'].to_list()\n",
        "\n",
        "for item in range(len(keywords_list)):\n",
        "  for keyword in keywords_list[item]:\n",
        "    if keyword in available_keywords.keys():\n",
        "      available_keywords[keyword] += 1\n",
        "    else:\n",
        "      available_keywords[keyword] = 1"
      ],
      "metadata": {
        "id": "v7OU3np0XUzW"
      },
      "execution_count": null,
      "outputs": []
    },
    {
      "cell_type": "code",
      "source": [
        "threshold = 0.003"
      ],
      "metadata": {
        "id": "2IqTtgX8Y8RC"
      },
      "execution_count": null,
      "outputs": []
    },
    {
      "cell_type": "code",
      "source": [
        "chosen_keywords = [key for key, value in available_keywords.items() if value >= int(len(available_keywords)*0.004) and key != \"\"]\n",
        "\n",
        "# for key, value in available_keywords.items():\n",
        "#   if value >= int(len(available_keywords)*threshold) and key != \"\":\n",
        "#     choosen_keywords.append(key)"
      ],
      "metadata": {
        "id": "13J-hWRrXVTe"
      },
      "execution_count": null,
      "outputs": []
    },
    {
      "cell_type": "code",
      "source": [
        "chosen_keywords"
      ],
      "metadata": {
        "colab": {
          "base_uri": "https://localhost:8080/"
        },
        "id": "KT-3HOtfYHSE",
        "outputId": "b3dde019-a398-4974-d597-d65edb175f8e"
      },
      "execution_count": null,
      "outputs": [
        {
          "output_type": "execute_result",
          "data": {
            "text/plain": [
              "['internet of things',\n",
              " 'privacy',\n",
              " 'blockchain',\n",
              " 'machine learning',\n",
              " 'prediction algorithms',\n",
              " 'biological system modeling',\n",
              " 'security',\n",
              " '5g mobile communication',\n",
              " 'cloud computing',\n",
              " 'wireless communication',\n",
              " 'wireless sensor networks',\n",
              " 'antenna arrays',\n",
              " 'bandwidth',\n",
              " 'imaging',\n",
              " 'remote sensing',\n",
              " 'computational modeling',\n",
              " 'neural networks',\n",
              " 'task analysis',\n",
              " 'predictive models',\n",
              " 'deep learning',\n",
              " 'training',\n",
              " 'testing',\n",
              " 'support vector machines',\n",
              " 'databases',\n",
              " 'artificial intelligence',\n",
              " 'logic gates',\n",
              " 'servers',\n",
              " 'computer architecture',\n",
              " 'feature extraction',\n",
              " 'optimization',\n",
              " 'data mining',\n",
              " 'real-time systems',\n",
              " 'convergence',\n",
              " 'convolution',\n",
              " 'convolutional neural networks',\n",
              " 'optical fiber communication',\n",
              " 'radio frequency',\n",
              " 'modulation',\n",
              " 'algorithm design and analysis',\n",
              " 'data models',\n",
              " 'monitoring',\n",
              " 'time series analysis',\n",
              " 'convolutional neural network',\n",
              " 'classification algorithms',\n",
              " 'object detection',\n",
              " 'detectors',\n",
              " 'strain',\n",
              " 'standards',\n",
              " 'solid modeling',\n",
              " 'buildings',\n",
              " 'planning',\n",
              " 'sensors',\n",
              " 'urban areas',\n",
              " 'energy consumption',\n",
              " 'analytical models',\n",
              " 'protocols',\n",
              " 'quality of service',\n",
              " 'switches',\n",
              " 'ofdm',\n",
              " 'indexes',\n",
              " 'optical transmitters',\n",
              " 'clustering algorithms',\n",
              " 'reliability',\n",
              " 'resource management',\n",
              " 'measurement',\n",
              " 'ions',\n",
              " 'atmospheric modeling',\n",
              " 'batteries',\n",
              " 'estimation',\n",
              " 'integrated circuit modeling',\n",
              " 'mathematical model',\n",
              " 'renewable energy sources',\n",
              " 'heuristic algorithms',\n",
              " 'sociology',\n",
              " 'performance evaluation',\n",
              " 'visualization',\n",
              " 'shape',\n",
              " 'image segmentation',\n",
              " 'three-dimensional displays',\n",
              " 'hyperspectral imaging',\n",
              " 'spatial resolution',\n",
              " 'kernel',\n",
              " 'encryption',\n",
              " 'temperature sensors',\n",
              " 'temperature measurement',\n",
              " 'control systems',\n",
              " 'optical sensors',\n",
              " 'software',\n",
              " 'generators',\n",
              " 'resistance',\n",
              " 'receivers',\n",
              " 'modeling',\n",
              " 'couplings',\n",
              " 'robots',\n",
              " 'image reconstruction',\n",
              " 'adaptation models',\n",
              " 'voltage control',\n",
              " 'genetic algorithms',\n",
              " 'signal to noise ratio',\n",
              " 'semantics',\n",
              " 'power generation',\n",
              " 'trajectory',\n",
              " 'routing',\n",
              " 'synthetic aperture radar',\n",
              " 'radar',\n",
              " 'power system stability',\n",
              " 'stability analysis',\n",
              " 'interference',\n",
              " 'cameras',\n",
              " 'rotors',\n",
              " 'mathematical models',\n",
              " 'delays',\n",
              " 'synthetic aperture radar (sar)',\n",
              " 'robustness',\n",
              " 'satellites',\n",
              " 'image color analysis',\n",
              " 'electroencephalography',\n",
              " 'reactive power',\n",
              " 'topology',\n",
              " 'legged locomotion',\n",
              " 'load modeling',\n",
              " 'antennas',\n",
              " 'correlation',\n",
              " 'force',\n",
              " 'complexity theory',\n",
              " 'absorption',\n",
              " 'decoding',\n",
              " 'impedance',\n",
              " 'brain modeling',\n",
              " 'sensitivity',\n",
              " 'optical imaging',\n",
              " 'uncertainty',\n",
              " 'substrates',\n",
              " 'roads',\n",
              " 'simulation',\n",
              " 'optical fiber sensors',\n",
              " 'stress',\n",
              " 'encoding',\n",
              " 'laser beams',\n",
              " 'electrodes',\n",
              " 'metals',\n",
              " 'earth',\n",
              " 'power systems',\n",
              " 'numerical models',\n",
              " 'relays',\n",
              " 'torque',\n",
              " 'cavity resonators',\n",
              " 'scattering',\n",
              " 'lighting',\n",
              " 'costs',\n",
              " 'light emitting diodes',\n",
              " 'optical fibers',\n",
              " 'photonics',\n",
              " 'silicon',\n",
              " 'frequency modulation',\n",
              " 'optical receivers',\n",
              " 'optical filters',\n",
              " 'nonlinear optics',\n",
              " 'optical waveguides',\n",
              " 'adaptive optics',\n",
              " 'optical polarization',\n",
              " 'optical fiber polarization',\n",
              " 'educational institutions',\n",
              " 'vectors',\n",
              " 'equations']"
            ]
          },
          "metadata": {},
          "execution_count": 34
        }
      ]
    },
    {
      "cell_type": "code",
      "source": [
        "final_keywords = []\n",
        "\n",
        "for i in range(len(df)):\n",
        "  temp = []\n",
        "  for word in df.iloc[i]['draft_keywords']:\n",
        "    if word in chosen_keywords:\n",
        "      temp.append(word)\n",
        "  final_keywords.append(temp)"
      ],
      "metadata": {
        "id": "bl405xIoYIkb"
      },
      "execution_count": null,
      "outputs": []
    },
    {
      "cell_type": "code",
      "source": [
        "df['final_keywords'] = final_keywords"
      ],
      "metadata": {
        "id": "P61Xr8FGZYai"
      },
      "execution_count": null,
      "outputs": []
    },
    {
      "cell_type": "code",
      "source": [
        "indices_to_drop.clear()\n",
        "\n",
        "indices_to_drop = [index for index in range(len(df)) if not len(df.iloc[index]['final_keywords'])]\n",
        "\n",
        "# for index in range(len(df)):\n",
        "#   if not len(df.iloc[index]['final_keywords']):\n",
        "#     indices_to_drop.append(index)"
      ],
      "metadata": {
        "id": "OJdFVqeid6Zc"
      },
      "execution_count": null,
      "outputs": []
    },
    {
      "cell_type": "code",
      "source": [
        "df = df.drop(indices_to_drop).reset_index(drop=True)"
      ],
      "metadata": {
        "id": "RJaAZCi5eRaT"
      },
      "execution_count": null,
      "outputs": []
    },
    {
      "cell_type": "code",
      "source": [
        "df = df.drop(columns=['draft_keywords']).reset_index(drop=True)"
      ],
      "metadata": {
        "id": "J4i_VN59aN8v"
      },
      "execution_count": null,
      "outputs": []
    },
    {
      "cell_type": "code",
      "source": [
        "df.head()"
      ],
      "metadata": {
        "colab": {
          "base_uri": "https://localhost:8080/"
        },
        "id": "PblxIjYfahWt",
        "outputId": "bb6bdae3-63e8-4f8f-bbde-3d4c750f3f5f"
      },
      "execution_count": null,
      "outputs": [
        {
          "output_type": "execute_result",
          "data": {
            "text/plain": [
              "                                           abstracts  \\\n",
              "0  Motivated by the recent explosion of interest ...   \n",
              "1  At the dawn of the fourth industrial revolutio...   \n",
              "2  The Internet of Things (IoT) makes smart objec...   \n",
              "3  In the near future, i.e., beyond 4G, some of t...   \n",
              "4  The future of mobile communications looks exci...   \n",
              "\n",
              "                                      final_keywords  \n",
              "0          [internet of things, privacy, blockchain]  \n",
              "1  [machine learning, prediction algorithms, biol...  \n",
              "2  [internet of things, biological system modelin...  \n",
              "3         [5g mobile communication, cloud computing]  \n",
              "4                          [5g mobile communication]  "
            ],
            "text/html": [
              "\n",
              "  <div id=\"df-4d1c3099-0d7a-438b-b0d7-2a9bed487f29\" class=\"colab-df-container\">\n",
              "    <div>\n",
              "<style scoped>\n",
              "    .dataframe tbody tr th:only-of-type {\n",
              "        vertical-align: middle;\n",
              "    }\n",
              "\n",
              "    .dataframe tbody tr th {\n",
              "        vertical-align: top;\n",
              "    }\n",
              "\n",
              "    .dataframe thead th {\n",
              "        text-align: right;\n",
              "    }\n",
              "</style>\n",
              "<table border=\"1\" class=\"dataframe\">\n",
              "  <thead>\n",
              "    <tr style=\"text-align: right;\">\n",
              "      <th></th>\n",
              "      <th>abstracts</th>\n",
              "      <th>final_keywords</th>\n",
              "    </tr>\n",
              "  </thead>\n",
              "  <tbody>\n",
              "    <tr>\n",
              "      <th>0</th>\n",
              "      <td>Motivated by the recent explosion of interest ...</td>\n",
              "      <td>[internet of things, privacy, blockchain]</td>\n",
              "    </tr>\n",
              "    <tr>\n",
              "      <th>1</th>\n",
              "      <td>At the dawn of the fourth industrial revolutio...</td>\n",
              "      <td>[machine learning, prediction algorithms, biol...</td>\n",
              "    </tr>\n",
              "    <tr>\n",
              "      <th>2</th>\n",
              "      <td>The Internet of Things (IoT) makes smart objec...</td>\n",
              "      <td>[internet of things, biological system modelin...</td>\n",
              "    </tr>\n",
              "    <tr>\n",
              "      <th>3</th>\n",
              "      <td>In the near future, i.e., beyond 4G, some of t...</td>\n",
              "      <td>[5g mobile communication, cloud computing]</td>\n",
              "    </tr>\n",
              "    <tr>\n",
              "      <th>4</th>\n",
              "      <td>The future of mobile communications looks exci...</td>\n",
              "      <td>[5g mobile communication]</td>\n",
              "    </tr>\n",
              "  </tbody>\n",
              "</table>\n",
              "</div>\n",
              "    <div class=\"colab-df-buttons\">\n",
              "\n",
              "  <div class=\"colab-df-container\">\n",
              "    <button class=\"colab-df-convert\" onclick=\"convertToInteractive('df-4d1c3099-0d7a-438b-b0d7-2a9bed487f29')\"\n",
              "            title=\"Convert this dataframe to an interactive table.\"\n",
              "            style=\"display:none;\">\n",
              "\n",
              "  <svg xmlns=\"http://www.w3.org/2000/svg\" height=\"24px\" viewBox=\"0 -960 960 960\">\n",
              "    <path d=\"M120-120v-720h720v720H120Zm60-500h600v-160H180v160Zm220 220h160v-160H400v160Zm0 220h160v-160H400v160ZM180-400h160v-160H180v160Zm440 0h160v-160H620v160ZM180-180h160v-160H180v160Zm440 0h160v-160H620v160Z\"/>\n",
              "  </svg>\n",
              "    </button>\n",
              "\n",
              "  <style>\n",
              "    .colab-df-container {\n",
              "      display:flex;\n",
              "      gap: 12px;\n",
              "    }\n",
              "\n",
              "    .colab-df-convert {\n",
              "      background-color: #E8F0FE;\n",
              "      border: none;\n",
              "      border-radius: 50%;\n",
              "      cursor: pointer;\n",
              "      display: none;\n",
              "      fill: #1967D2;\n",
              "      height: 32px;\n",
              "      padding: 0 0 0 0;\n",
              "      width: 32px;\n",
              "    }\n",
              "\n",
              "    .colab-df-convert:hover {\n",
              "      background-color: #E2EBFA;\n",
              "      box-shadow: 0px 1px 2px rgba(60, 64, 67, 0.3), 0px 1px 3px 1px rgba(60, 64, 67, 0.15);\n",
              "      fill: #174EA6;\n",
              "    }\n",
              "\n",
              "    .colab-df-buttons div {\n",
              "      margin-bottom: 4px;\n",
              "    }\n",
              "\n",
              "    [theme=dark] .colab-df-convert {\n",
              "      background-color: #3B4455;\n",
              "      fill: #D2E3FC;\n",
              "    }\n",
              "\n",
              "    [theme=dark] .colab-df-convert:hover {\n",
              "      background-color: #434B5C;\n",
              "      box-shadow: 0px 1px 3px 1px rgba(0, 0, 0, 0.15);\n",
              "      filter: drop-shadow(0px 1px 2px rgba(0, 0, 0, 0.3));\n",
              "      fill: #FFFFFF;\n",
              "    }\n",
              "  </style>\n",
              "\n",
              "    <script>\n",
              "      const buttonEl =\n",
              "        document.querySelector('#df-4d1c3099-0d7a-438b-b0d7-2a9bed487f29 button.colab-df-convert');\n",
              "      buttonEl.style.display =\n",
              "        google.colab.kernel.accessAllowed ? 'block' : 'none';\n",
              "\n",
              "      async function convertToInteractive(key) {\n",
              "        const element = document.querySelector('#df-4d1c3099-0d7a-438b-b0d7-2a9bed487f29');\n",
              "        const dataTable =\n",
              "          await google.colab.kernel.invokeFunction('convertToInteractive',\n",
              "                                                    [key], {});\n",
              "        if (!dataTable) return;\n",
              "\n",
              "        const docLinkHtml = 'Like what you see? Visit the ' +\n",
              "          '<a target=\"_blank\" href=https://colab.research.google.com/notebooks/data_table.ipynb>data table notebook</a>'\n",
              "          + ' to learn more about interactive tables.';\n",
              "        element.innerHTML = '';\n",
              "        dataTable['output_type'] = 'display_data';\n",
              "        await google.colab.output.renderOutput(dataTable, element);\n",
              "        const docLink = document.createElement('div');\n",
              "        docLink.innerHTML = docLinkHtml;\n",
              "        element.appendChild(docLink);\n",
              "      }\n",
              "    </script>\n",
              "  </div>\n",
              "\n",
              "\n",
              "<div id=\"df-f6875f04-594e-488f-9986-de1b6e672b4e\">\n",
              "  <button class=\"colab-df-quickchart\" onclick=\"quickchart('df-f6875f04-594e-488f-9986-de1b6e672b4e')\"\n",
              "            title=\"Suggest charts\"\n",
              "            style=\"display:none;\">\n",
              "\n",
              "<svg xmlns=\"http://www.w3.org/2000/svg\" height=\"24px\"viewBox=\"0 0 24 24\"\n",
              "     width=\"24px\">\n",
              "    <g>\n",
              "        <path d=\"M19 3H5c-1.1 0-2 .9-2 2v14c0 1.1.9 2 2 2h14c1.1 0 2-.9 2-2V5c0-1.1-.9-2-2-2zM9 17H7v-7h2v7zm4 0h-2V7h2v10zm4 0h-2v-4h2v4z\"/>\n",
              "    </g>\n",
              "</svg>\n",
              "  </button>\n",
              "\n",
              "<style>\n",
              "  .colab-df-quickchart {\n",
              "      --bg-color: #E8F0FE;\n",
              "      --fill-color: #1967D2;\n",
              "      --hover-bg-color: #E2EBFA;\n",
              "      --hover-fill-color: #174EA6;\n",
              "      --disabled-fill-color: #AAA;\n",
              "      --disabled-bg-color: #DDD;\n",
              "  }\n",
              "\n",
              "  [theme=dark] .colab-df-quickchart {\n",
              "      --bg-color: #3B4455;\n",
              "      --fill-color: #D2E3FC;\n",
              "      --hover-bg-color: #434B5C;\n",
              "      --hover-fill-color: #FFFFFF;\n",
              "      --disabled-bg-color: #3B4455;\n",
              "      --disabled-fill-color: #666;\n",
              "  }\n",
              "\n",
              "  .colab-df-quickchart {\n",
              "    background-color: var(--bg-color);\n",
              "    border: none;\n",
              "    border-radius: 50%;\n",
              "    cursor: pointer;\n",
              "    display: none;\n",
              "    fill: var(--fill-color);\n",
              "    height: 32px;\n",
              "    padding: 0;\n",
              "    width: 32px;\n",
              "  }\n",
              "\n",
              "  .colab-df-quickchart:hover {\n",
              "    background-color: var(--hover-bg-color);\n",
              "    box-shadow: 0 1px 2px rgba(60, 64, 67, 0.3), 0 1px 3px 1px rgba(60, 64, 67, 0.15);\n",
              "    fill: var(--button-hover-fill-color);\n",
              "  }\n",
              "\n",
              "  .colab-df-quickchart-complete:disabled,\n",
              "  .colab-df-quickchart-complete:disabled:hover {\n",
              "    background-color: var(--disabled-bg-color);\n",
              "    fill: var(--disabled-fill-color);\n",
              "    box-shadow: none;\n",
              "  }\n",
              "\n",
              "  .colab-df-spinner {\n",
              "    border: 2px solid var(--fill-color);\n",
              "    border-color: transparent;\n",
              "    border-bottom-color: var(--fill-color);\n",
              "    animation:\n",
              "      spin 1s steps(1) infinite;\n",
              "  }\n",
              "\n",
              "  @keyframes spin {\n",
              "    0% {\n",
              "      border-color: transparent;\n",
              "      border-bottom-color: var(--fill-color);\n",
              "      border-left-color: var(--fill-color);\n",
              "    }\n",
              "    20% {\n",
              "      border-color: transparent;\n",
              "      border-left-color: var(--fill-color);\n",
              "      border-top-color: var(--fill-color);\n",
              "    }\n",
              "    30% {\n",
              "      border-color: transparent;\n",
              "      border-left-color: var(--fill-color);\n",
              "      border-top-color: var(--fill-color);\n",
              "      border-right-color: var(--fill-color);\n",
              "    }\n",
              "    40% {\n",
              "      border-color: transparent;\n",
              "      border-right-color: var(--fill-color);\n",
              "      border-top-color: var(--fill-color);\n",
              "    }\n",
              "    60% {\n",
              "      border-color: transparent;\n",
              "      border-right-color: var(--fill-color);\n",
              "    }\n",
              "    80% {\n",
              "      border-color: transparent;\n",
              "      border-right-color: var(--fill-color);\n",
              "      border-bottom-color: var(--fill-color);\n",
              "    }\n",
              "    90% {\n",
              "      border-color: transparent;\n",
              "      border-bottom-color: var(--fill-color);\n",
              "    }\n",
              "  }\n",
              "</style>\n",
              "\n",
              "  <script>\n",
              "    async function quickchart(key) {\n",
              "      const quickchartButtonEl =\n",
              "        document.querySelector('#' + key + ' button');\n",
              "      quickchartButtonEl.disabled = true;  // To prevent multiple clicks.\n",
              "      quickchartButtonEl.classList.add('colab-df-spinner');\n",
              "      try {\n",
              "        const charts = await google.colab.kernel.invokeFunction(\n",
              "            'suggestCharts', [key], {});\n",
              "      } catch (error) {\n",
              "        console.error('Error during call to suggestCharts:', error);\n",
              "      }\n",
              "      quickchartButtonEl.classList.remove('colab-df-spinner');\n",
              "      quickchartButtonEl.classList.add('colab-df-quickchart-complete');\n",
              "    }\n",
              "    (() => {\n",
              "      let quickchartButtonEl =\n",
              "        document.querySelector('#df-f6875f04-594e-488f-9986-de1b6e672b4e button');\n",
              "      quickchartButtonEl.style.display =\n",
              "        google.colab.kernel.accessAllowed ? 'block' : 'none';\n",
              "    })();\n",
              "  </script>\n",
              "</div>\n",
              "\n",
              "    </div>\n",
              "  </div>\n"
            ]
          },
          "metadata": {},
          "execution_count": 40
        }
      ]
    },
    {
      "cell_type": "code",
      "source": [
        "df.shape"
      ],
      "metadata": {
        "colab": {
          "base_uri": "https://localhost:8080/"
        },
        "id": "aL2A071BahSP",
        "outputId": "03cc61ce-8647-4bdb-e00f-d837178626ee"
      },
      "execution_count": null,
      "outputs": [
        {
          "output_type": "execute_result",
          "data": {
            "text/plain": [
              "(36398, 2)"
            ]
          },
          "metadata": {},
          "execution_count": 41
        }
      ]
    },
    {
      "cell_type": "code",
      "source": [
        "data_path = \"data\"\n",
        "df.to_csv(f\"{data_path}/papers_final_data.csv\", index=False)"
      ],
      "metadata": {
        "id": "od3s241iahNl"
      },
      "execution_count": null,
      "outputs": []
    }
  ]
}